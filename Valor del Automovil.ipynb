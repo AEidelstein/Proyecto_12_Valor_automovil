{
 "cells": [
  {
   "cell_type": "markdown",
   "metadata": {},
   "source": [
    "# Introducción"
   ]
  },
  {
   "cell_type": "markdown",
   "metadata": {},
   "source": [
    "El servicio de venta de autos usados Rusty Bargain está desarrollando una aplicación para atraer nuevos clientes. Gracias a esa app, puedes averiguar rápidamente el valor de mercado de tu coche. Tienes acceso al historial: especificaciones técnicas, versiones de equipamiento y precios. Tienes que crear un modelo que determine el valor de mercado.\n",
    "A Rusty Bargain le interesa:\n",
    "- la calidad de la predicción;\n",
    "- la velocidad de la predicción;\n",
    "- el tiempo requerido para el entrenamiento\n",
    "\n",
    "\n",
    "\n",
    "Características con las que viene el archivo recibido:\n",
    "\n",
    "  -  `DateCrawled` — fecha en la que se descargó el perfil de la base de datos\n",
    "  -  `VehicleType` — tipo de carrocería del vehículo\n",
    "  -  `RegistrationYear` — año de matriculación del vehículo\n",
    "  -  `Gearbox` — tipo de caja de cambios\n",
    "  -  `Power` — potencia (CV)\n",
    "  -  `Model` — modelo del vehículo\n",
    "  -  `Mileage` — kilometraje (medido en km de acuerdo con las especificidades regionales del conjunto de datos)\n",
    "  -  `RegistrationMonth` — mes de matriculación del vehículo\n",
    "  -  `FuelType` — tipo de combustible\n",
    "  -  `Brand` — marca del vehículo\n",
    "  -  `NotRepaired` — vehículo con o sin reparación\n",
    "  -  `DateCreated` — fecha de creación del perfil\n",
    "  -  `NumberOfPictures` — número de fotos del vehículo\n",
    "  -  `PostalCode` — código postal del propietario del perfil (usuario)\n",
    "  -  `LastSeen` — fecha de la última vez que el usuario estuvo activo"
   ]
  },
  {
   "cell_type": "markdown",
   "metadata": {},
   "source": [
    "# Objetivo"
   ]
  },
  {
   "cell_type": "markdown",
   "metadata": {},
   "source": [
    "- Descargar y examinar los datos.\n",
    "- Entrenar diferentes modelos con varios hiperparámetros (hacer al menos dos modelos diferentes, pero más es mejor. Recuerdar, varias implementaciones de potenciación del gradiente no cuentan como modelos diferentes). El punto principal de este paso es comparar métodos de potenciación del gradiente con bosque aleatorio, árbol de decisión y regresión lineal.\n",
    "- Analizar la velocidad y la calidad de los modelos."
   ]
  },
  {
   "cell_type": "markdown",
   "metadata": {},
   "source": [
    "# Librerías"
   ]
  },
  {
   "cell_type": "code",
   "execution_count": 1,
   "metadata": {},
   "outputs": [
    {
     "name": "stdout",
     "output_type": "stream",
     "text": [
      "CPU times: user 3 µs, sys: 0 ns, total: 3 µs\n",
      "Wall time: 5.25 µs\n"
     ]
    }
   ],
   "source": [
    "%time\n",
    "import numpy as np\n",
    "import pandas as pd\n",
    "import matplotlib.pyplot as plt\n",
    "import seaborn as sns\n",
    "import math\n",
    "\n",
    "import lightgbm as lgb\n",
    "\n",
    "from sklearn.preprocessing import OrdinalEncoder\n",
    "\n",
    "from catboost import CatBoostRegressor\n",
    "\n",
    "from sklearn.model_selection import train_test_split\n",
    "from sklearn.neighbors import NearestNeighbors\n",
    "from sklearn.linear_model import LinearRegression\n",
    "from sklearn.ensemble import RandomForestRegressor\n",
    "\n",
    "from sklearn.metrics import mean_squared_error\n",
    "from sklearn.preprocessing import OneHotEncoder\n",
    "from sklearn.preprocessing import LabelEncoder\n",
    "\n",
    "from scipy.spatial import distance\n",
    "from numpy.random import RandomState"
   ]
  },
  {
   "cell_type": "markdown",
   "metadata": {},
   "source": [
    "# Datos "
   ]
  },
  {
   "cell_type": "code",
   "execution_count": 2,
   "metadata": {},
   "outputs": [],
   "source": [
    "try:\n",
    "    data = pd.read_csv('car_data.csv')\n",
    "except:\n",
    "    data = pd.read_csv('/datasets/car_data.csv')\n"
   ]
  },
  {
   "cell_type": "code",
   "execution_count": 3,
   "metadata": {},
   "outputs": [
    {
     "data": {
      "text/html": [
       "<div>\n",
       "<style scoped>\n",
       "    .dataframe tbody tr th:only-of-type {\n",
       "        vertical-align: middle;\n",
       "    }\n",
       "\n",
       "    .dataframe tbody tr th {\n",
       "        vertical-align: top;\n",
       "    }\n",
       "\n",
       "    .dataframe thead th {\n",
       "        text-align: right;\n",
       "    }\n",
       "</style>\n",
       "<table border=\"1\" class=\"dataframe\">\n",
       "  <thead>\n",
       "    <tr style=\"text-align: right;\">\n",
       "      <th></th>\n",
       "      <th>DateCrawled</th>\n",
       "      <th>Price</th>\n",
       "      <th>VehicleType</th>\n",
       "      <th>RegistrationYear</th>\n",
       "      <th>Gearbox</th>\n",
       "      <th>Power</th>\n",
       "      <th>Model</th>\n",
       "      <th>Mileage</th>\n",
       "      <th>RegistrationMonth</th>\n",
       "      <th>FuelType</th>\n",
       "      <th>Brand</th>\n",
       "      <th>NotRepaired</th>\n",
       "      <th>DateCreated</th>\n",
       "      <th>NumberOfPictures</th>\n",
       "      <th>PostalCode</th>\n",
       "      <th>LastSeen</th>\n",
       "    </tr>\n",
       "  </thead>\n",
       "  <tbody>\n",
       "    <tr>\n",
       "      <th>0</th>\n",
       "      <td>24/03/2016 11:52</td>\n",
       "      <td>480</td>\n",
       "      <td>NaN</td>\n",
       "      <td>1993</td>\n",
       "      <td>manual</td>\n",
       "      <td>0</td>\n",
       "      <td>golf</td>\n",
       "      <td>150000</td>\n",
       "      <td>0</td>\n",
       "      <td>petrol</td>\n",
       "      <td>volkswagen</td>\n",
       "      <td>NaN</td>\n",
       "      <td>24/03/2016 00:00</td>\n",
       "      <td>0</td>\n",
       "      <td>70435</td>\n",
       "      <td>07/04/2016 03:16</td>\n",
       "    </tr>\n",
       "    <tr>\n",
       "      <th>1</th>\n",
       "      <td>24/03/2016 10:58</td>\n",
       "      <td>18300</td>\n",
       "      <td>coupe</td>\n",
       "      <td>2011</td>\n",
       "      <td>manual</td>\n",
       "      <td>190</td>\n",
       "      <td>NaN</td>\n",
       "      <td>125000</td>\n",
       "      <td>5</td>\n",
       "      <td>gasoline</td>\n",
       "      <td>audi</td>\n",
       "      <td>yes</td>\n",
       "      <td>24/03/2016 00:00</td>\n",
       "      <td>0</td>\n",
       "      <td>66954</td>\n",
       "      <td>07/04/2016 01:46</td>\n",
       "    </tr>\n",
       "    <tr>\n",
       "      <th>2</th>\n",
       "      <td>14/03/2016 12:52</td>\n",
       "      <td>9800</td>\n",
       "      <td>suv</td>\n",
       "      <td>2004</td>\n",
       "      <td>auto</td>\n",
       "      <td>163</td>\n",
       "      <td>grand</td>\n",
       "      <td>125000</td>\n",
       "      <td>8</td>\n",
       "      <td>gasoline</td>\n",
       "      <td>jeep</td>\n",
       "      <td>NaN</td>\n",
       "      <td>14/03/2016 00:00</td>\n",
       "      <td>0</td>\n",
       "      <td>90480</td>\n",
       "      <td>05/04/2016 12:47</td>\n",
       "    </tr>\n",
       "    <tr>\n",
       "      <th>3</th>\n",
       "      <td>17/03/2016 16:54</td>\n",
       "      <td>1500</td>\n",
       "      <td>small</td>\n",
       "      <td>2001</td>\n",
       "      <td>manual</td>\n",
       "      <td>75</td>\n",
       "      <td>golf</td>\n",
       "      <td>150000</td>\n",
       "      <td>6</td>\n",
       "      <td>petrol</td>\n",
       "      <td>volkswagen</td>\n",
       "      <td>no</td>\n",
       "      <td>17/03/2016 00:00</td>\n",
       "      <td>0</td>\n",
       "      <td>91074</td>\n",
       "      <td>17/03/2016 17:40</td>\n",
       "    </tr>\n",
       "    <tr>\n",
       "      <th>4</th>\n",
       "      <td>31/03/2016 17:25</td>\n",
       "      <td>3600</td>\n",
       "      <td>small</td>\n",
       "      <td>2008</td>\n",
       "      <td>manual</td>\n",
       "      <td>69</td>\n",
       "      <td>fabia</td>\n",
       "      <td>90000</td>\n",
       "      <td>7</td>\n",
       "      <td>gasoline</td>\n",
       "      <td>skoda</td>\n",
       "      <td>no</td>\n",
       "      <td>31/03/2016 00:00</td>\n",
       "      <td>0</td>\n",
       "      <td>60437</td>\n",
       "      <td>06/04/2016 10:17</td>\n",
       "    </tr>\n",
       "  </tbody>\n",
       "</table>\n",
       "</div>"
      ],
      "text/plain": [
       "        DateCrawled  Price VehicleType  RegistrationYear Gearbox  Power  \\\n",
       "0  24/03/2016 11:52    480         NaN              1993  manual      0   \n",
       "1  24/03/2016 10:58  18300       coupe              2011  manual    190   \n",
       "2  14/03/2016 12:52   9800         suv              2004    auto    163   \n",
       "3  17/03/2016 16:54   1500       small              2001  manual     75   \n",
       "4  31/03/2016 17:25   3600       small              2008  manual     69   \n",
       "\n",
       "   Model  Mileage  RegistrationMonth  FuelType       Brand NotRepaired  \\\n",
       "0   golf   150000                  0    petrol  volkswagen         NaN   \n",
       "1    NaN   125000                  5  gasoline        audi         yes   \n",
       "2  grand   125000                  8  gasoline        jeep         NaN   \n",
       "3   golf   150000                  6    petrol  volkswagen          no   \n",
       "4  fabia    90000                  7  gasoline       skoda          no   \n",
       "\n",
       "        DateCreated  NumberOfPictures  PostalCode          LastSeen  \n",
       "0  24/03/2016 00:00                 0       70435  07/04/2016 03:16  \n",
       "1  24/03/2016 00:00                 0       66954  07/04/2016 01:46  \n",
       "2  14/03/2016 00:00                 0       90480  05/04/2016 12:47  \n",
       "3  17/03/2016 00:00                 0       91074  17/03/2016 17:40  \n",
       "4  31/03/2016 00:00                 0       60437  06/04/2016 10:17  "
      ]
     },
     "execution_count": 3,
     "metadata": {},
     "output_type": "execute_result"
    }
   ],
   "source": [
    "data.head()"
   ]
  },
  {
   "cell_type": "code",
   "execution_count": 4,
   "metadata": {},
   "outputs": [
    {
     "name": "stdout",
     "output_type": "stream",
     "text": [
      "<class 'pandas.core.frame.DataFrame'>\n",
      "RangeIndex: 354369 entries, 0 to 354368\n",
      "Data columns (total 16 columns):\n",
      " #   Column             Non-Null Count   Dtype \n",
      "---  ------             --------------   ----- \n",
      " 0   DateCrawled        354369 non-null  object\n",
      " 1   Price              354369 non-null  int64 \n",
      " 2   VehicleType        316879 non-null  object\n",
      " 3   RegistrationYear   354369 non-null  int64 \n",
      " 4   Gearbox            334536 non-null  object\n",
      " 5   Power              354369 non-null  int64 \n",
      " 6   Model              334664 non-null  object\n",
      " 7   Mileage            354369 non-null  int64 \n",
      " 8   RegistrationMonth  354369 non-null  int64 \n",
      " 9   FuelType           321474 non-null  object\n",
      " 10  Brand              354369 non-null  object\n",
      " 11  NotRepaired        283215 non-null  object\n",
      " 12  DateCreated        354369 non-null  object\n",
      " 13  NumberOfPictures   354369 non-null  int64 \n",
      " 14  PostalCode         354369 non-null  int64 \n",
      " 15  LastSeen           354369 non-null  object\n",
      "dtypes: int64(7), object(9)\n",
      "memory usage: 43.3+ MB\n"
     ]
    }
   ],
   "source": [
    "data.info()"
   ]
  },
  {
   "cell_type": "code",
   "execution_count": 5,
   "metadata": {},
   "outputs": [
    {
     "data": {
      "text/plain": [
       "(354369, 16)"
      ]
     },
     "execution_count": 5,
     "metadata": {},
     "output_type": "execute_result"
    }
   ],
   "source": [
    "data.shape"
   ]
  },
  {
   "cell_type": "markdown",
   "metadata": {},
   "source": [
    "Revisando la información de nuestro DataFrame, observamos lo siguiente:\n",
    "\n",
    "- Tenemos un total de 354369filas con 16 columnas.\n",
    "- Tenemos datos faltantes en las columnas `VehicleType`, `Gearbox`, `Model`, `FuelType` y `NotRepaired`.\n",
    "- Las columnas `DateCrawled`, `DateCreated` y `LastSeen` son de tipo \"object\". Con nuestro análisis, veremos si lo cambiamos a formato DateTime o lo podemos dejar como está."
   ]
  },
  {
   "cell_type": "code",
   "execution_count": 6,
   "metadata": {},
   "outputs": [
    {
     "data": {
      "text/html": [
       "<div>\n",
       "<style scoped>\n",
       "    .dataframe tbody tr th:only-of-type {\n",
       "        vertical-align: middle;\n",
       "    }\n",
       "\n",
       "    .dataframe tbody tr th {\n",
       "        vertical-align: top;\n",
       "    }\n",
       "\n",
       "    .dataframe thead th {\n",
       "        text-align: right;\n",
       "    }\n",
       "</style>\n",
       "<table border=\"1\" class=\"dataframe\">\n",
       "  <thead>\n",
       "    <tr style=\"text-align: right;\">\n",
       "      <th></th>\n",
       "      <th>Price</th>\n",
       "      <th>RegistrationYear</th>\n",
       "      <th>Power</th>\n",
       "      <th>Mileage</th>\n",
       "      <th>RegistrationMonth</th>\n",
       "      <th>NumberOfPictures</th>\n",
       "      <th>PostalCode</th>\n",
       "    </tr>\n",
       "  </thead>\n",
       "  <tbody>\n",
       "    <tr>\n",
       "      <th>count</th>\n",
       "      <td>354369.000000</td>\n",
       "      <td>354369.000000</td>\n",
       "      <td>354369.000000</td>\n",
       "      <td>354369.000000</td>\n",
       "      <td>354369.000000</td>\n",
       "      <td>354369.0</td>\n",
       "      <td>354369.000000</td>\n",
       "    </tr>\n",
       "    <tr>\n",
       "      <th>mean</th>\n",
       "      <td>4416.656776</td>\n",
       "      <td>2004.234448</td>\n",
       "      <td>110.094337</td>\n",
       "      <td>128211.172535</td>\n",
       "      <td>5.714645</td>\n",
       "      <td>0.0</td>\n",
       "      <td>50508.689087</td>\n",
       "    </tr>\n",
       "    <tr>\n",
       "      <th>std</th>\n",
       "      <td>4514.158514</td>\n",
       "      <td>90.227958</td>\n",
       "      <td>189.850405</td>\n",
       "      <td>37905.341530</td>\n",
       "      <td>3.726421</td>\n",
       "      <td>0.0</td>\n",
       "      <td>25783.096248</td>\n",
       "    </tr>\n",
       "    <tr>\n",
       "      <th>min</th>\n",
       "      <td>0.000000</td>\n",
       "      <td>1000.000000</td>\n",
       "      <td>0.000000</td>\n",
       "      <td>5000.000000</td>\n",
       "      <td>0.000000</td>\n",
       "      <td>0.0</td>\n",
       "      <td>1067.000000</td>\n",
       "    </tr>\n",
       "    <tr>\n",
       "      <th>25%</th>\n",
       "      <td>1050.000000</td>\n",
       "      <td>1999.000000</td>\n",
       "      <td>69.000000</td>\n",
       "      <td>125000.000000</td>\n",
       "      <td>3.000000</td>\n",
       "      <td>0.0</td>\n",
       "      <td>30165.000000</td>\n",
       "    </tr>\n",
       "    <tr>\n",
       "      <th>50%</th>\n",
       "      <td>2700.000000</td>\n",
       "      <td>2003.000000</td>\n",
       "      <td>105.000000</td>\n",
       "      <td>150000.000000</td>\n",
       "      <td>6.000000</td>\n",
       "      <td>0.0</td>\n",
       "      <td>49413.000000</td>\n",
       "    </tr>\n",
       "    <tr>\n",
       "      <th>75%</th>\n",
       "      <td>6400.000000</td>\n",
       "      <td>2008.000000</td>\n",
       "      <td>143.000000</td>\n",
       "      <td>150000.000000</td>\n",
       "      <td>9.000000</td>\n",
       "      <td>0.0</td>\n",
       "      <td>71083.000000</td>\n",
       "    </tr>\n",
       "    <tr>\n",
       "      <th>max</th>\n",
       "      <td>20000.000000</td>\n",
       "      <td>9999.000000</td>\n",
       "      <td>20000.000000</td>\n",
       "      <td>150000.000000</td>\n",
       "      <td>12.000000</td>\n",
       "      <td>0.0</td>\n",
       "      <td>99998.000000</td>\n",
       "    </tr>\n",
       "  </tbody>\n",
       "</table>\n",
       "</div>"
      ],
      "text/plain": [
       "               Price  RegistrationYear          Power        Mileage  \\\n",
       "count  354369.000000     354369.000000  354369.000000  354369.000000   \n",
       "mean     4416.656776       2004.234448     110.094337  128211.172535   \n",
       "std      4514.158514         90.227958     189.850405   37905.341530   \n",
       "min         0.000000       1000.000000       0.000000    5000.000000   \n",
       "25%      1050.000000       1999.000000      69.000000  125000.000000   \n",
       "50%      2700.000000       2003.000000     105.000000  150000.000000   \n",
       "75%      6400.000000       2008.000000     143.000000  150000.000000   \n",
       "max     20000.000000       9999.000000   20000.000000  150000.000000   \n",
       "\n",
       "       RegistrationMonth  NumberOfPictures     PostalCode  \n",
       "count      354369.000000          354369.0  354369.000000  \n",
       "mean            5.714645               0.0   50508.689087  \n",
       "std             3.726421               0.0   25783.096248  \n",
       "min             0.000000               0.0    1067.000000  \n",
       "25%             3.000000               0.0   30165.000000  \n",
       "50%             6.000000               0.0   49413.000000  \n",
       "75%             9.000000               0.0   71083.000000  \n",
       "max            12.000000               0.0   99998.000000  "
      ]
     },
     "execution_count": 6,
     "metadata": {},
     "output_type": "execute_result"
    }
   ],
   "source": [
    "data.describe()"
   ]
  },
  {
   "cell_type": "markdown",
   "metadata": {},
   "source": [
    "Teniendo un poco más de detalle de nuestra data, podemos observar que tenemos algunas columnas con valores y distribuciones extrañas. Por ejemplo, la columna `NumberOfPictures` está repleta de 0. Lo que no nos aporta mucha información realmente. La eliminaremos más adelante. Por otro lado, las columnas `Price`, `RegistrationYear`, y `Power` tienen un aumento grande en el último cuarto de datos. Sobretodo se ve en la columna `Power`, donde el valor máximo es mucho más alto que el tercer cuartil. Por último, tenemos la columna `Mileage`, en la cual podemos observar que el valor máximo pareciera ser igual a la mayoría de los datos. Podría deberse a que es el odómetro máximo aceptado por la plataforma."
   ]
  },
  {
   "cell_type": "markdown",
   "metadata": {},
   "source": [
    "### Columnas con valores atípicos"
   ]
  },
  {
   "cell_type": "markdown",
   "metadata": {},
   "source": [
    "#### Veamos como se distribuyen los valores de la columna `Mileage`:"
   ]
  },
  {
   "cell_type": "code",
   "execution_count": 7,
   "metadata": {},
   "outputs": [
    {
     "data": {
      "image/png": "[encoded data removed]",
      "text/plain": [
       "<Figure size 1224x504 with 1 Axes>"
      ]
     },
     "metadata": {
      "needs_background": "light"
     },
     "output_type": "display_data"
    }
   ],
   "source": [
    "data['Mileage'].sort_values(ignore_index=True).plot(figsize=(17,7), grid=True)\n",
    "plt.xticks(np.arange(0,375001,25000))\n",
    "plt.title('Columna \"Mileage\"')\n",
    "plt.ylabel('Mileage')\n",
    "plt.xlabel('Número de anuncios')\n",
    "plt.show()"
   ]
  },
  {
   "cell_type": "markdown",
   "metadata": {},
   "source": [
    "Como mencionado anteriormente, los valores de la columna `Mileage` se encuentran escalados. Es probable que esto significa que al subir el anuncio, se presentan algunas opciones para el millaje del vehículo, y no se da la libertad a la persona para colocar cualquier valor. Por lo tanto, podríamos pensar que el valor máximo de esta columna puede ser igual o mayor al millaje del vehículo."
   ]
  },
  {
   "cell_type": "code",
   "execution_count": 8,
   "metadata": {},
   "outputs": [
    {
     "data": {
      "image/png": "[encoded data removed]",
      "text/plain": [
       "<Figure size 1440x432 with 1 Axes>"
      ]
     },
     "metadata": {
      "needs_background": "light"
     },
     "output_type": "display_data"
    }
   ],
   "source": [
    "# Eliminar filas con valores NaN en las columnas 'Mileage' y 'Price'\n",
    "data_scatter = data.dropna(subset=['Mileage', 'Price'])\n",
    "\n",
    "# Crear el scatter plot usando matplotlib\n",
    "plt.figure(figsize=(20, 6))\n",
    "plt.scatter(data_scatter['Mileage'], data_scatter['Price'])\n",
    "plt.xlabel('Mileage')\n",
    "plt.ylabel('Price')\n",
    "plt.title('Scatter Plot: Mileage vs Price')\n",
    "plt.show()\n"
   ]
  },
  {
   "cell_type": "markdown",
   "metadata": {},
   "source": [
    "#### Veamos como se distribuyen los valores de la columna `Power`:"
   ]
  },
  {
   "cell_type": "code",
   "execution_count": 9,
   "metadata": {},
   "outputs": [
    {
     "data": {
      "image/png": "[encoded data removed]",
      "text/plain": [
       "<Figure size 1224x504 with 1 Axes>"
      ]
     },
     "metadata": {
      "needs_background": "light"
     },
     "output_type": "display_data"
    }
   ],
   "source": [
    "data['Power'].sort_values(ignore_index=True).plot(figsize=(17,7), grid=True)\n",
    "plt.title('Columna \"Power\"')\n",
    "plt.ylabel('Power')\n",
    "plt.xlabel('Número de anuncios')\n",
    "plt.show()"
   ]
  },
  {
   "cell_type": "markdown",
   "metadata": {},
   "source": [
    "Con el gráfico de arriba, no logramos observar de forma clara el problema. Vamos a crear un límite superior y veremos como se distribuyen los valores superiores."
   ]
  },
  {
   "cell_type": "code",
   "execution_count": 10,
   "metadata": {},
   "outputs": [
    {
     "data": {
      "image/png": "[encoded data removed]",
      "text/plain": [
       "<Figure size 1224x504 with 1 Axes>"
      ]
     },
     "metadata": {
      "needs_background": "light"
     },
     "output_type": "display_data"
    }
   ],
   "source": [
    "data[data['Power']<=500]['Power'].sort_values(ignore_index=True).plot(figsize=(17,7), grid=True)\n",
    "plt.title('Columna\"Power\"')\n",
    "plt.ylabel('Power')\n",
    "plt.xlabel('Número de anuncios')\n",
    "plt.show()"
   ]
  },
  {
   "cell_type": "code",
   "execution_count": 11,
   "metadata": {},
   "outputs": [
    {
     "data": {
      "text/plain": [
       "0.8864883779337357"
      ]
     },
     "execution_count": 11,
     "metadata": {},
     "output_type": "execute_result"
    }
   ],
   "source": [
    "len(data[data['Power']>0])/len(data)"
   ]
  },
  {
   "cell_type": "markdown",
   "metadata": {},
   "source": [
    "Ahora podemos ver con mayor claridad los valores de la columna `Power`. Y observamos que algunos anuncios que tienen potencia 0 están en el extremo inferior. No tiene mucho sentido esto, deberíamos eliminar estas filas, aún si corresponde a más del 10%. Esperemos que esta eliminación se lleve algunos de los valores vacíos y atípicos de otras columnas. Fijándonos en el extremo superior, podemos ver que los valores parecen tener un crecimiento excesivo a partir de 300."
   ]
  },
  {
   "cell_type": "code",
   "execution_count": 12,
   "metadata": {},
   "outputs": [
    {
     "data": {
      "image/png": "[encoded data removed]",
      "text/plain": [
       "<Figure size 1224x504 with 1 Axes>"
      ]
     },
     "metadata": {
      "needs_background": "light"
     },
     "output_type": "display_data"
    }
   ],
   "source": [
    "data[(data['Power']<=300) & (data['Power']>40)]['Power'].sort_values(ignore_index=True).plot(figsize=(17,7), grid=True)\n",
    "plt.title('Columna \"Power\"')\n",
    "plt.ylabel('Power')\n",
    "plt.xlabel('Número de anuncios')\n",
    "plt.show()"
   ]
  },
  {
   "cell_type": "markdown",
   "metadata": {},
   "source": [
    "Ahora si tenemos un grupo de datos que se comporta de forma más normal. Aunque continuamos con extremos con comportamiento atípico. Pero se podría llegar a considerar el rango entre 40 y 300 de poder."
   ]
  },
  {
   "cell_type": "code",
   "execution_count": 13,
   "metadata": {},
   "outputs": [
    {
     "data": {
      "image/png": "[encoded data removed]",
      "text/plain": [
       "<Figure size 576x432 with 1 Axes>"
      ]
     },
     "metadata": {
      "needs_background": "light"
     },
     "output_type": "display_data"
    }
   ],
   "source": [
    "# Eliminar filas con valores NaN en las columnas 'Power' y 'Price'\n",
    "data_scatter = data.dropna(subset=['Power', 'Price'])\n",
    "\n",
    "# Crear el scatter plot usando matplotlib\n",
    "plt.figure(figsize=(8, 6))\n",
    "plt.scatter(data_scatter['Power'], data_scatter['Price'])\n",
    "plt.xlabel('Power')\n",
    "plt.ylabel('Price')\n",
    "plt.title('Scatter Plot: Power vs Price')\n",
    "plt.show()\n"
   ]
  },
  {
   "cell_type": "markdown",
   "metadata": {},
   "source": [
    "Sin filtrar, tenemos la mayoría de los datos bajo los 2500 de potencia.\n"
   ]
  },
  {
   "cell_type": "code",
   "execution_count": 14,
   "metadata": {},
   "outputs": [
    {
     "data": {
      "image/png": "[encoded data removed]",
      "text/plain": [
       "<Figure size 576x432 with 1 Axes>"
      ]
     },
     "metadata": {
      "needs_background": "light"
     },
     "output_type": "display_data"
    }
   ],
   "source": [
    "# Filtrar los datos por el rango de potencia deseado\n",
    "filtered_data = data[(data['Power'] > 40) & (data['Power'] <= 300)]\n",
    "\n",
    "# Eliminar filas con valores NaN en la columna 'Price'\n",
    "filtered_data = filtered_data.dropna(subset=['Price'])\n",
    "\n",
    "# Crear el scatter plot usando matplotlib\n",
    "plt.figure(figsize=(8, 6))\n",
    "plt.scatter(filtered_data['Power'], filtered_data['Price'])\n",
    "plt.xlabel('Power')\n",
    "plt.ylabel('Price')\n",
    "plt.title('Scatter Plot: Power vs Price')\n",
    "plt.show()"
   ]
  },
  {
   "cell_type": "markdown",
   "metadata": {},
   "source": [
    "Una vez filtrados los datos con potencia sobre 40 y menos e igual a 300, podemos observar que la gran mayoría de los precios de los vehículos se concentra entre las potencias de 40 a 150 en potencia."
   ]
  },
  {
   "cell_type": "markdown",
   "metadata": {},
   "source": [
    "#### Veamos la columna `RegistrationYear`:"
   ]
  },
  {
   "cell_type": "code",
   "execution_count": 15,
   "metadata": {},
   "outputs": [
    {
     "data": {
      "image/png": "[encoded data removed]",
      "text/plain": [
       "<Figure size 1224x504 with 1 Axes>"
      ]
     },
     "metadata": {
      "needs_background": "light"
     },
     "output_type": "display_data"
    }
   ],
   "source": [
    "data['RegistrationYear'].sort_values(ignore_index=True).plot(figsize=(17,7), grid=True)\n",
    "plt.title('Columna \"RegistrationYear\"')\n",
    "plt.ylabel('RegistrationYear')\n",
    "plt.xlabel('Número de anuncios')\n",
    "plt.show()"
   ]
  },
  {
   "cell_type": "markdown",
   "metadata": {},
   "source": [
    "Observamos que tenemos vehículos entre el año 1000 y 9999. Tenemos varios valores fuera de un rango razonable. Por ejemplo anuncios de vehículos registrados en el futuro y otros registrados hace más de 100 años. Si bien, estos podrían ser vehículos clásicos. Pero vehículos registrados hace más de 500 años atrás se vuelve menos probable de que sea el año correcto. Cortaremos estos valores y veremos como se distribuye."
   ]
  },
  {
   "cell_type": "code",
   "execution_count": 16,
   "metadata": {
    "scrolled": false
   },
   "outputs": [
    {
     "data": {
      "image/png": "[encoded data removed]",
      "text/plain": [
       "<Figure size 1224x504 with 1 Axes>"
      ]
     },
     "metadata": {
      "needs_background": "light"
     },
     "output_type": "display_data"
    }
   ],
   "source": [
    "data[(data['RegistrationYear']<=2023) & (data['RegistrationYear']>1920)]['RegistrationYear'].sort_values(ignore_index=True).plot(figsize=(17,7), grid=True)\n",
    "plt.yticks(np.arange(1920,2030,5))\n",
    "plt.title('Columna \"RegistrationYear\"')\n",
    "plt.ylabel('RegistrationYear')\n",
    "plt.xlabel('Número de anuncios')\n",
    "plt.show()"
   ]
  },
  {
   "cell_type": "code",
   "execution_count": 17,
   "metadata": {},
   "outputs": [
    {
     "data": {
      "image/png": "[encoded data removed]",
      "text/plain": [
       "<Figure size 432x288 with 1 Axes>"
      ]
     },
     "metadata": {
      "needs_background": "light"
     },
     "output_type": "display_data"
    }
   ],
   "source": [
    "plt.hist(data[(data['RegistrationYear']<=2023) & (data['RegistrationYear']>1920)]['RegistrationYear'].sort_values(ignore_index=True), bins=100)  \n",
    "plt.xlabel('RegistrationYear')\n",
    "plt.ylabel('Frequency')\n",
    "plt.title('Histogram of RegistrationYear')\n",
    "plt.show()"
   ]
  },
  {
   "cell_type": "code",
   "execution_count": 18,
   "metadata": {},
   "outputs": [
    {
     "data": {
      "text/plain": [
       "0.9645002807807681"
      ]
     },
     "execution_count": 18,
     "metadata": {},
     "output_type": "execute_result"
    }
   ],
   "source": [
    "len(data[(data['RegistrationYear']<=2023) & (data['RegistrationYear']>1990)])/len(data)"
   ]
  },
  {
   "cell_type": "markdown",
   "metadata": {},
   "source": [
    "Observamos que tenemos un rango más razonable, pero sigue habiendo una gran cantidad de anuncios antiguos. Consideraremos solamente el rango con el comportamiento más estable, siendo los anuncios con registros desde el año 1990 al presente 2023."
   ]
  },
  {
   "cell_type": "code",
   "execution_count": 19,
   "metadata": {},
   "outputs": [
    {
     "data": {
      "image/png": "[encoded data removed]",
      "text/plain": [
       "<Figure size 432x288 with 1 Axes>"
      ]
     },
     "metadata": {
      "needs_background": "light"
     },
     "output_type": "display_data"
    },
    {
     "data": {
      "text/plain": [
       "<Figure size 720x648 with 0 Axes>"
      ]
     },
     "metadata": {},
     "output_type": "display_data"
    }
   ],
   "source": [
    "plt.hist(data[(data['RegistrationYear']<=2023) & (data['RegistrationYear']>1990)]['RegistrationYear'].sort_values(ignore_index=True), bins=100)  \n",
    "plt.xlabel('RegistrationYear')\n",
    "plt.ylabel('Frequency')\n",
    "plt.title('Histogram of RegistrationYear')\n",
    "plt.figure(figsize=(10,9))\n",
    "plt.show()"
   ]
  },
  {
   "cell_type": "markdown",
   "metadata": {},
   "source": [
    "Tomando dichos rangos y representados en el histograma, se ve una cantidad de anuncios más estable."
   ]
  },
  {
   "cell_type": "code",
   "execution_count": 20,
   "metadata": {},
   "outputs": [
    {
     "data": {
      "image/png": "[encoded data removed]",
      "text/plain": [
       "<Figure size 576x432 with 1 Axes>"
      ]
     },
     "metadata": {
      "needs_background": "light"
     },
     "output_type": "display_data"
    }
   ],
   "source": [
    "# Eliminar filas con valores NaN en las columnas 'RegistrationYear' y 'Price'\n",
    "data_scatter = data.dropna(subset=['RegistrationYear', 'Price'])\n",
    "\n",
    "# Crear el scatter plot usando matplotlib\n",
    "plt.figure(figsize=(8, 6))\n",
    "plt.scatter(data_scatter['RegistrationYear'], data_scatter['Price'])\n",
    "plt.xlabel('Registration Year')\n",
    "plt.ylabel('Price')\n",
    "plt.title('Scatter Plot: Registration Year vs Price')\n",
    "plt.show()\n",
    "\n"
   ]
  },
  {
   "cell_type": "markdown",
   "metadata": {},
   "source": [
    "Sin filtrar los datos con los años seleccionamos, observamos que la mayoría de los precios está dentro y antes de los años 2000. Tenemos valores raros a partir del año de registración del 2030."
   ]
  },
  {
   "cell_type": "code",
   "execution_count": 21,
   "metadata": {},
   "outputs": [
    {
     "data": {
      "image/png": "[encoded data removed]",
      "text/plain": [
       "<Figure size 1440x432 with 1 Axes>"
      ]
     },
     "metadata": {
      "needs_background": "light"
     },
     "output_type": "display_data"
    }
   ],
   "source": [
    "# Filtrar los datos por el rango de años de registro deseado\n",
    "filtered_data = data[(data['RegistrationYear'] >= 1990) & (data['RegistrationYear'] <= 2023)]\n",
    "\n",
    "# Eliminar filas con valores NaN en la columna 'Price'\n",
    "filtered_data = filtered_data.dropna(subset=['Price'])\n",
    "\n",
    "# Crear el scatter plot usando matplotlib\n",
    "plt.figure(figsize=(20, 6))\n",
    "plt.scatter(filtered_data['RegistrationYear'], filtered_data['Price'])\n",
    "plt.xlabel('Registration Year')\n",
    "plt.ylabel('Price')\n",
    "plt.title('Scatter Plot: Registration Year vs Price')\n",
    "plt.show()"
   ]
  },
  {
   "cell_type": "markdown",
   "metadata": {},
   "source": [
    "Si filtramos los años de registro de 1990 al 2023, observamos que a partir del año 2001 tenemos más cantidad de vehículos con valores en casi toda la distribución de valores. Antes del año 2000 logramos observamos unos vacíos dentro de valores \"normales\" y \"altos\"."
   ]
  },
  {
   "cell_type": "markdown",
   "metadata": {},
   "source": [
    "#### Veamos la columna `Price`:"
   ]
  },
  {
   "cell_type": "code",
   "execution_count": 22,
   "metadata": {},
   "outputs": [
    {
     "data": {
      "text/plain": [
       "count    354369.000000\n",
       "mean       4416.656776\n",
       "std        4514.158514\n",
       "min           0.000000\n",
       "25%        1050.000000\n",
       "50%        2700.000000\n",
       "75%        6400.000000\n",
       "max       20000.000000\n",
       "Name: Price, dtype: float64"
      ]
     },
     "execution_count": 22,
     "metadata": {},
     "output_type": "execute_result"
    }
   ],
   "source": [
    "data['Price'].sort_values(ignore_index=True).describe()"
   ]
  },
  {
   "cell_type": "code",
   "execution_count": 23,
   "metadata": {},
   "outputs": [
    {
     "data": {
      "image/png": "[encoded data removed]",
      "text/plain": [
       "<Figure size 576x432 with 1 Axes>"
      ]
     },
     "metadata": {
      "needs_background": "light"
     },
     "output_type": "display_data"
    }
   ],
   "source": [
    "# Calcular el rango intercuartílico (IQR)\n",
    "Q1 = data['Price'].quantile(0.25)\n",
    "Q3 = data['Price'].quantile(0.75)\n",
    "IQR = Q3 - Q1\n",
    "\n",
    "# Definir los límites para identificar los datos atípicos\n",
    "lower_limit = Q1 - 1.5 * IQR\n",
    "upper_limit = Q3 + 1.5 * IQR\n",
    "\n",
    "# Filtrar los datos atípicos\n",
    "outliers = data[(data['Price'] < lower_limit) | (data['Price'] > upper_limit)]\n",
    "\n",
    "# Crear el boxplot \n",
    "plt.figure(figsize=(8, 6))\n",
    "plt.boxplot(data['Price'])\n",
    "#plt.stripplot(outliers['Price'], color='red', marker='o', size=4)\n",
    "plt.xlabel('Price')\n",
    "plt.title('Boxplot of Price with Outliers')\n",
    "plt.show()"
   ]
  },
  {
   "cell_type": "code",
   "execution_count": 24,
   "metadata": {},
   "outputs": [
    {
     "data": {
      "image/png": "[encoded data removed]",
      "text/plain": [
       "<Figure size 576x432 with 1 Axes>"
      ]
     },
     "metadata": {
      "needs_background": "light"
     },
     "output_type": "display_data"
    }
   ],
   "source": [
    "# Definir el umbral para eliminar los valores atípicos\n",
    "umbral = 15000\n",
    "\n",
    "# Filtrar los valores atípicos\n",
    "data_sin_atipicos = data[data['Price'] <= umbral]\n",
    "\n",
    "# Crear el boxplot\n",
    "plt.figure(figsize=(8, 6))\n",
    "plt.boxplot(data_sin_atipicos['Price'])\n",
    "plt.xlabel('Price')\n",
    "plt.title('Boxplot of Price without Outliers')\n",
    "plt.show()"
   ]
  },
  {
   "cell_type": "code",
   "execution_count": 25,
   "metadata": {},
   "outputs": [
    {
     "data": {
      "image/png": "[encoded data removed]",
      "text/plain": [
       "<Figure size 720x432 with 1 Axes>"
      ]
     },
     "metadata": {
      "needs_background": "light"
     },
     "output_type": "display_data"
    }
   ],
   "source": [
    "plt.figure(figsize=(10, 6))\n",
    "plt.hist(data['Price'].sort_values(ignore_index=True), bins=100)  \n",
    "plt.xlabel('Price')\n",
    "plt.ylabel('Publicaciones')\n",
    "plt.title('Histogram of Price')\n",
    "plt.show()"
   ]
  },
  {
   "cell_type": "markdown",
   "metadata": {},
   "source": [
    "Observamos que tenemos una gran cantidad de anuncios con valor 0."
   ]
  },
  {
   "cell_type": "code",
   "execution_count": 26,
   "metadata": {},
   "outputs": [
    {
     "data": {
      "image/png": "[encoded data removed]",
      "text/plain": [
       "<Figure size 720x432 with 1 Axes>"
      ]
     },
     "metadata": {
      "needs_background": "light"
     },
     "output_type": "display_data"
    }
   ],
   "source": [
    "plt.figure(figsize=(10, 6))\n",
    "plt.hist(data[data['Price']>20]['Price'].sort_values(ignore_index=True), bins=50)  # Puedes ajustar el número de bins según tus necesidades\n",
    "plt.xlabel('Price')\n",
    "plt.ylabel('Publicaciones')\n",
    "plt.title('Histogram of Price')\n",
    "plt.show()"
   ]
  },
  {
   "cell_type": "code",
   "execution_count": 27,
   "metadata": {},
   "outputs": [
    {
     "data": {
      "text/plain": [
       "count    342141.000000\n",
       "mean       4574.493861\n",
       "std        4514.858527\n",
       "min          21.000000\n",
       "25%        1200.000000\n",
       "50%        2900.000000\n",
       "75%        6500.000000\n",
       "max       20000.000000\n",
       "Name: Price, dtype: float64"
      ]
     },
     "execution_count": 27,
     "metadata": {},
     "output_type": "execute_result"
    }
   ],
   "source": [
    "data[data['Price']>20]['Price'].sort_values(ignore_index=True).describe()"
   ]
  },
  {
   "cell_type": "markdown",
   "metadata": {},
   "source": [
    "En la columna `Price`, podemos observar que la gran mayoría o incluso, hasta la mitad de publicaciones tienen valores bajo 2700. Teniendo un salto de valor grande del 50% al 75% y del 75% al valor máximo de 20000. Procedimos a realizar el mismo análisis, pero dejando valores mayor a 20 y obteniendo que hasta el 50% está bajo 2900, teniendo el mismo salto grande de valores del 50% al 75%, manteniéndose el valor máximo de 20000."
   ]
  },
  {
   "cell_type": "markdown",
   "metadata": {},
   "source": [
    "#### Matriz de correlación"
   ]
  },
  {
   "cell_type": "code",
   "execution_count": 28,
   "metadata": {},
   "outputs": [
    {
     "data": {
      "image/png": "[encoded data removed]",
      "text/plain": [
       "<Figure size 576x432 with 2 Axes>"
      ]
     },
     "metadata": {
      "needs_background": "light"
     },
     "output_type": "display_data"
    }
   ],
   "source": [
    "# Seleccionar las columnas de interés\n",
    "columns = ['RegistrationYear', 'Power', 'Mileage', 'Price']\n",
    "data_selected = data[columns]\n",
    "\n",
    "# Eliminar filas con valores NaN\n",
    "data_selected = data_selected.dropna()\n",
    "\n",
    "# Calcular la matriz de correlación\n",
    "correlation_matrix = data_selected.corr()\n",
    "\n",
    "# Crear el mapa de calor de la matriz de correlación\n",
    "plt.figure(figsize=(8, 6))\n",
    "sns.heatmap(correlation_matrix, annot=True, cmap='coolwarm')\n",
    "plt.title('Matriz de correlación')\n",
    "plt.show()\n"
   ]
  },
  {
   "cell_type": "markdown",
   "metadata": {},
   "source": [
    "Según la Matriz de Correlación, podemos observar lo siguiente:\n",
    "\n",
    "- No encontramos una correlación perfecta entre ninguna columna con otra.\n",
    "- Contamos con correlaciones tanto positivas como negativas.\n",
    "- La correlación entre Power y Price es 0.16 y es muy débil.\n",
    "- La correlación entre Mileage y Price es de -0.33 y es débil. Que vendría siendo la más alta correlación que tenemos.\n",
    "- Las otras correlaciones, observamos que están todas en el rango +-0.00 y +-0.09, que sería correlación nula.\n"
   ]
  },
  {
   "cell_type": "markdown",
   "metadata": {},
   "source": [
    "#### Columnas categóricas"
   ]
  },
  {
   "cell_type": "markdown",
   "metadata": {},
   "source": [
    "##### Columna `VehicleType`"
   ]
  },
  {
   "cell_type": "code",
   "execution_count": 29,
   "metadata": {},
   "outputs": [
    {
     "data": {
      "text/plain": [
       "sedan          0.288618\n",
       "small          0.251929\n",
       "wagon          0.205649\n",
       "bus            0.090808\n",
       "convertible    0.063756\n",
       "coupe          0.051007\n",
       "suv            0.037857\n",
       "other          0.010376\n",
       "Name: VehicleType, dtype: float64"
      ]
     },
     "execution_count": 29,
     "metadata": {},
     "output_type": "execute_result"
    }
   ],
   "source": [
    "data['VehicleType'].value_counts(normalize=True)"
   ]
  },
  {
   "cell_type": "code",
   "execution_count": 30,
   "metadata": {},
   "outputs": [
    {
     "data": {
      "image/png": "[encoded data removed]",
      "text/plain": [
       "<Figure size 432x288 with 1 Axes>"
      ]
     },
     "metadata": {
      "needs_background": "light"
     },
     "output_type": "display_data"
    }
   ],
   "source": [
    "VehicleType_counts = data['VehicleType'].value_counts()\n",
    "plt.bar(VehicleType_counts.index, VehicleType_counts.values)\n",
    "plt.xlabel('Vehicle Type')\n",
    "plt.ylabel('Cantidad')\n",
    "plt.title('Histogram of Vehicle Types')\n",
    "plt.xticks(rotation=45)\n",
    "plt.show()"
   ]
  },
  {
   "cell_type": "markdown",
   "metadata": {},
   "source": [
    "Observamos que la gran cantidad de tipo de vehiculos son sedan, small y wagon."
   ]
  },
  {
   "cell_type": "code",
   "execution_count": 31,
   "metadata": {},
   "outputs": [
    {
     "data": {
      "image/png": "[encoded data removed]",
      "text/plain": [
       "<Figure size 576x432 with 1 Axes>"
      ]
     },
     "metadata": {
      "needs_background": "light"
     },
     "output_type": "display_data"
    }
   ],
   "source": [
    "# Crear un nuevo DataFrame con las columnas necesarias\n",
    "data_boxplot = data[['VehicleType', 'Price']]\n",
    "\n",
    "# Eliminar filas con valores NaN en las columnas de interés\n",
    "data_boxplot = data_boxplot.dropna(subset=['VehicleType', 'Price'])\n",
    "\n",
    "# Crear el boxplot usando seaborn\n",
    "plt.figure(figsize=(8, 6))\n",
    "sns.boxplot(data=data_boxplot, x='VehicleType', y='Price')\n",
    "plt.xlabel('Vehicle Type')\n",
    "plt.ylabel('Price')\n",
    "plt.title('Boxplot: Vehicle Type vs Price')\n",
    "plt.xticks(rotation=45)\n",
    "plt.show()"
   ]
  },
  {
   "cell_type": "markdown",
   "metadata": {},
   "source": [
    "Observamos que los vehículos SUV son los que tienen el precio más alto dentro de los bigotes, siendo los small con mayor cantidad de valores atípicos. Resaltan los convertibles, que en cantidad de publicación están en 5to puesto, tienen precios  altos también."
   ]
  },
  {
   "cell_type": "markdown",
   "metadata": {},
   "source": [
    "##### Columna `Gearbox`"
   ]
  },
  {
   "cell_type": "code",
   "execution_count": 32,
   "metadata": {},
   "outputs": [
    {
     "data": {
      "text/plain": [
       "manual    0.80186\n",
       "auto      0.19814\n",
       "Name: Gearbox, dtype: float64"
      ]
     },
     "execution_count": 32,
     "metadata": {},
     "output_type": "execute_result"
    }
   ],
   "source": [
    "data['Gearbox'].value_counts(normalize=True)"
   ]
  },
  {
   "cell_type": "code",
   "execution_count": 33,
   "metadata": {},
   "outputs": [
    {
     "data": {
      "image/png": "[encoded data removed]",
      "text/plain": [
       "<Figure size 432x288 with 1 Axes>"
      ]
     },
     "metadata": {
      "needs_background": "light"
     },
     "output_type": "display_data"
    }
   ],
   "source": [
    "Gearbox_counts = data['Gearbox'].value_counts()\n",
    "plt.bar(Gearbox_counts.index, Gearbox_counts.values)\n",
    "plt.xlabel('Gearbox')\n",
    "plt.ylabel('Cantidad')\n",
    "plt.title('Histogram of Gearbox')\n",
    "plt.xticks(rotation=45)\n",
    "plt.show()"
   ]
  },
  {
   "cell_type": "markdown",
   "metadata": {},
   "source": [
    "Observamos que la mayoría de los vehículos son manuales."
   ]
  },
  {
   "cell_type": "code",
   "execution_count": 34,
   "metadata": {},
   "outputs": [
    {
     "data": {
      "image/png": "[encoded data removed]",
      "text/plain": [
       "<Figure size 576x432 with 1 Axes>"
      ]
     },
     "metadata": {
      "needs_background": "light"
     },
     "output_type": "display_data"
    }
   ],
   "source": [
    "# Agrupar los precios por tipo de transmisión\n",
    "grouped_data = data.groupby('Gearbox')['Price'].mean()\n",
    "\n",
    "# Crear el gráfico de barras agrupadas\n",
    "plt.figure(figsize=(8, 6))\n",
    "grouped_data.plot(kind='bar')\n",
    "plt.xlabel('Gearbox')\n",
    "plt.ylabel('Average Price')\n",
    "plt.title('Grouped Bar Chart: Gearbox vs Average Price')\n",
    "plt.xticks(rotation=45)\n",
    "plt.show()"
   ]
  },
  {
   "cell_type": "markdown",
   "metadata": {},
   "source": [
    "Si bien, la mayoría de los vehículos publicados son manuales, los vehículos automáticos son más caros en promedio."
   ]
  },
  {
   "cell_type": "code",
   "execution_count": 35,
   "metadata": {},
   "outputs": [
    {
     "data": {
      "image/png": "[encoded data removed]",
      "text/plain": [
       "<Figure size 576x432 with 1 Axes>"
      ]
     },
     "metadata": {
      "needs_background": "light"
     },
     "output_type": "display_data"
    }
   ],
   "source": [
    "# Crear un nuevo DataFrame con las columnas necesarias\n",
    "data_boxplot_1 = data[['Gearbox', 'Price']]\n",
    "\n",
    "# Eliminar filas con valores NaN en las columnas de interés\n",
    "data_boxplot_1 = data_boxplot_1.dropna(subset=['Gearbox', 'Price'])\n",
    "\n",
    "# Crear el boxplot usando seaborn\n",
    "plt.figure(figsize=(8, 6))\n",
    "sns.boxplot(data=data_boxplot_1, x='Gearbox', y='Price')\n",
    "plt.xlabel('Gearbox')\n",
    "plt.ylabel('Price')\n",
    "plt.title('Boxplot: Gearbox vs Price')\n",
    "plt.xticks(rotation=45)\n",
    "plt.show()"
   ]
  },
  {
   "cell_type": "markdown",
   "metadata": {},
   "source": [
    "Como en el gráfico anterior, ratificamos que los vehículos automáticos son más caros, comparado con los de caja manual."
   ]
  },
  {
   "cell_type": "markdown",
   "metadata": {},
   "source": [
    "##### Columna `Model`"
   ]
  },
  {
   "cell_type": "code",
   "execution_count": 36,
   "metadata": {},
   "outputs": [
    {
     "data": {
      "text/plain": [
       "golf                  0.087347\n",
       "other                 0.072972\n",
       "3er                   0.059047\n",
       "polo                  0.039042\n",
       "corsa                 0.037560\n",
       "                        ...   \n",
       "serie_2               0.000024\n",
       "serie_3               0.000012\n",
       "rangerover            0.000012\n",
       "serie_1               0.000006\n",
       "range_rover_evoque    0.000006\n",
       "Name: Model, Length: 250, dtype: float64"
      ]
     },
     "execution_count": 36,
     "metadata": {},
     "output_type": "execute_result"
    }
   ],
   "source": [
    "data['Model'].value_counts(normalize=True)"
   ]
  },
  {
   "cell_type": "code",
   "execution_count": 37,
   "metadata": {},
   "outputs": [
    {
     "data": {
      "image/png": "[encoded data removed]",
      "text/plain": [
       "<Figure size 432x288 with 1 Axes>"
      ]
     },
     "metadata": {
      "needs_background": "light"
     },
     "output_type": "display_data"
    },
    {
     "data": {
      "text/plain": [
       "<Figure size 720x1080 with 0 Axes>"
      ]
     },
     "metadata": {},
     "output_type": "display_data"
    }
   ],
   "source": [
    "Model_counts = data['Model'].value_counts(normalize=True)\n",
    "top_models = Model_counts[Model_counts >= 0.03]\n",
    "plt.barh(top_models.index, top_models.values)\n",
    "plt.xlabel('Cantidad')\n",
    "plt.ylabel('Model')\n",
    "plt.title('Histogram of Model')\n",
    "plt.figure(figsize=(10,15))\n",
    "#plt.xticks(rotation=90)\n",
    "plt.show()"
   ]
  },
  {
   "cell_type": "code",
   "execution_count": 38,
   "metadata": {},
   "outputs": [
    {
     "data": {
      "text/plain": [
       "count      250.000000\n",
       "mean      1338.656000\n",
       "std       3277.262009\n",
       "min          2.000000\n",
       "25%        145.250000\n",
       "50%        369.000000\n",
       "75%        888.750000\n",
       "max      29232.000000\n",
       "Name: Model, dtype: float64"
      ]
     },
     "execution_count": 38,
     "metadata": {},
     "output_type": "execute_result"
    }
   ],
   "source": [
    "data['Model'].value_counts().describe()"
   ]
  },
  {
   "cell_type": "code",
   "execution_count": 39,
   "metadata": {},
   "outputs": [
    {
     "data": {
      "text/plain": [
       "<AxesSubplot:>"
      ]
     },
     "execution_count": 39,
     "metadata": {},
     "output_type": "execute_result"
    },
    {
     "data": {
      "image/png": "[encoded data removed]",
      "text/plain": [
       "<Figure size 432x288 with 1 Axes>"
      ]
     },
     "metadata": {
      "needs_background": "light"
     },
     "output_type": "display_data"
    }
   ],
   "source": [
    "data['Model'].value_counts(normalize=True).plot()"
   ]
  },
  {
   "cell_type": "markdown",
   "metadata": {},
   "source": [
    "Tenemos 250 modelos diferentes. La cantidad de anuncios por modelo es bastante baja. De todas formas, apreciamos que los modelos más publicados, a menos de \"otros\", son de marca Europea, marca VW y OPEL, para ser más detallados. Que a su vez, se ratifica más adelante como las marcas más publicadas también.\n",
    "\n",
    "Por tener una gran cantidad de modelos diferentes dentro de esta columna, codificarla para que los modelos puedan procesarla será un problema. Además hará que los modelos tomarán mucho tiempo de proceso y podría influir en sus predicciones de forma desproporcionada al tener tantas diferencias entre las cantidades de anuncios por modelo. Tal vez es mejor eliminar esta columna."
   ]
  },
  {
   "cell_type": "code",
   "execution_count": 40,
   "metadata": {
    "scrolled": false
   },
   "outputs": [
    {
     "data": {
      "image/png": "[encoded data removed]",
      "text/plain": [
       "<Figure size 576x432 with 1 Axes>"
      ]
     },
     "metadata": {
      "needs_background": "light"
     },
     "output_type": "display_data"
    }
   ],
   "source": [
    "# Filtrar los modelos que cumplen con la frecuencia relativa mínima\n",
    "filtered_models = top_models.index\n",
    "\n",
    "# Crear un nuevo DataFrame con los modelos filtrados y los precios correspondientes\n",
    "data_filtered = data[data['Model'].isin(filtered_models)][['Model', 'Price']]\n",
    "\n",
    "# Eliminar filas con valores NaN en la columna de precios\n",
    "data_filtered = data_filtered.dropna(subset=['Price'])\n",
    "\n",
    "# Crear el boxplot usando seaborn\n",
    "plt.figure(figsize=(8, 6))\n",
    "sns.boxplot(data=data_filtered, x='Model', y='Price')\n",
    "plt.xlabel('Model')\n",
    "plt.ylabel('Price')\n",
    "plt.title('Boxplot: Model vs Price')\n",
    "plt.xticks(rotation=45)\n",
    "plt.show()"
   ]
  },
  {
   "cell_type": "markdown",
   "metadata": {},
   "source": [
    "Al observar los modelos comparado con el precio, observamos que el modelo Golf, siendo el más publicado, no es el con mayor rango de valor. Este viene siendo el '3er', que a su vez es el tercer modelo más publicado. Sopresivamente, el Passat está dentro de los valores más altos, siendo el menos publicado dentro de nuestro filtro."
   ]
  },
  {
   "cell_type": "markdown",
   "metadata": {},
   "source": [
    "##### Columna `FuelType`"
   ]
  },
  {
   "cell_type": "code",
   "execution_count": 41,
   "metadata": {},
   "outputs": [
    {
     "data": {
      "text/plain": [
       "petrol      0.673000\n",
       "gasoline    0.307085\n",
       "lpg         0.016518\n",
       "cng         0.001758\n",
       "hybrid      0.000725\n",
       "other       0.000635\n",
       "electric    0.000280\n",
       "Name: FuelType, dtype: float64"
      ]
     },
     "execution_count": 41,
     "metadata": {},
     "output_type": "execute_result"
    }
   ],
   "source": [
    "data['FuelType'].value_counts(normalize=True)"
   ]
  },
  {
   "cell_type": "code",
   "execution_count": 42,
   "metadata": {},
   "outputs": [
    {
     "data": {
      "image/png": "[encoded data removed]",
      "text/plain": [
       "<Figure size 432x288 with 1 Axes>"
      ]
     },
     "metadata": {
      "needs_background": "light"
     },
     "output_type": "display_data"
    }
   ],
   "source": [
    "FuelType_counts = data['FuelType'].value_counts()\n",
    "plt.bar(FuelType_counts.index, FuelType_counts.values)\n",
    "plt.xlabel('FuelType')\n",
    "plt.ylabel('Cantidad')\n",
    "plt.title('Histogram of Gearbox')\n",
    "plt.xticks(rotation=45)\n",
    "plt.show()"
   ]
  },
  {
   "cell_type": "markdown",
   "metadata": {},
   "source": [
    "Si bien, ya estamos en la época de vehículos eléctricos, seguimos observando mayor cantidad de vehículos con combustión interna. Al igual que en la columna `VehicleType`, llenaremos los datos vacíos de esta columna con la categoría 'other'."
   ]
  },
  {
   "cell_type": "code",
   "execution_count": 43,
   "metadata": {},
   "outputs": [
    {
     "data": {
      "image/png": "[encoded data removed]",
      "text/plain": [
       "<Figure size 576x432 with 1 Axes>"
      ]
     },
     "metadata": {
      "needs_background": "light"
     },
     "output_type": "display_data"
    }
   ],
   "source": [
    "# Crear un nuevo DataFrame con las columnas necesarias\n",
    "FuelType_boxplot = data[['FuelType', 'Price']]\n",
    "\n",
    "# Eliminar filas con valores NaN en las columnas de interés\n",
    "FuelType_boxplot = FuelType_boxplot.dropna(subset=['FuelType', 'Price'])\n",
    "\n",
    "# Crear el boxplot usando seaborn\n",
    "plt.figure(figsize=(8, 6))\n",
    "sns.boxplot(data=FuelType_boxplot, x='FuelType', y='Price')\n",
    "plt.xlabel('Fuel Type')\n",
    "plt.ylabel('Price')\n",
    "plt.title('Boxplot: Fuel Type vs Price')\n",
    "plt.xticks(rotation=45)\n",
    "plt.show()"
   ]
  },
  {
   "cell_type": "markdown",
   "metadata": {},
   "source": [
    "Sorpresivamente, los vehículos con tipo de \"combustible\" más caros son los híbridos, seguidos por los eléctricos y gasolina. Si bien, podría ser lógico, porque los vehículos híbridos de 0Km, son bastante caros. Pero al parecer no tienen un desavaluo tan grande como los otros tipos de \"combustibles\". En cambio, los vehículos a petroleo que son los más publicados, tienen valores bajos."
   ]
  },
  {
   "cell_type": "markdown",
   "metadata": {},
   "source": [
    "##### Columna `Brand`"
   ]
  },
  {
   "cell_type": "code",
   "execution_count": 44,
   "metadata": {
    "scrolled": true
   },
   "outputs": [
    {
     "data": {
      "text/plain": [
       "volkswagen        77013\n",
       "opel              39931\n",
       "bmw               36914\n",
       "mercedes_benz     32046\n",
       "audi              29456\n",
       "ford              25179\n",
       "renault           17927\n",
       "peugeot           10998\n",
       "fiat               9643\n",
       "seat               6907\n",
       "mazda              5615\n",
       "skoda              5500\n",
       "smart              5246\n",
       "citroen            5148\n",
       "nissan             4941\n",
       "toyota             4606\n",
       "hyundai            3587\n",
       "sonstige_autos     3374\n",
       "volvo              3210\n",
       "mini               3202\n",
       "mitsubishi         3022\n",
       "honda              2817\n",
       "kia                2465\n",
       "suzuki             2323\n",
       "alfa_romeo         2314\n",
       "chevrolet          1754\n",
       "chrysler           1439\n",
       "dacia               900\n",
       "daihatsu            806\n",
       "subaru              762\n",
       "porsche             758\n",
       "jeep                677\n",
       "trabant             589\n",
       "land_rover          545\n",
       "daewoo              542\n",
       "saab                526\n",
       "jaguar              505\n",
       "rover               486\n",
       "lancia              471\n",
       "lada                225\n",
       "Name: Brand, dtype: int64"
      ]
     },
     "execution_count": 44,
     "metadata": {},
     "output_type": "execute_result"
    }
   ],
   "source": [
    "data['Brand'].value_counts()"
   ]
  },
  {
   "cell_type": "code",
   "execution_count": 45,
   "metadata": {},
   "outputs": [
    {
     "data": {
      "image/png": "[encoded data removed]",
      "text/plain": [
       "<Figure size 432x288 with 1 Axes>"
      ]
     },
     "metadata": {
      "needs_background": "light"
     },
     "output_type": "display_data"
    },
    {
     "data": {
      "text/plain": [
       "<Figure size 720x1080 with 0 Axes>"
      ]
     },
     "metadata": {},
     "output_type": "display_data"
    }
   ],
   "source": [
    "Brand_counts = data['Brand'].value_counts()\n",
    "top_brands = Brand_counts[Brand_counts >= 3000]\n",
    "plt.barh(top_brands.index, top_brands.values)\n",
    "plt.xlabel('Cantidad')\n",
    "plt.ylabel('Brand')\n",
    "plt.title('Histogram of Brand')\n",
    "plt.figure(figsize=(10,15))\n",
    "#plt.xticks(rotation=45)\n",
    "plt.show()"
   ]
  },
  {
   "cell_type": "markdown",
   "metadata": {},
   "source": [
    "Se observa que la gran mayoría de las marcas publicadas, son Europeas, menos Ford que se cuela entremedio del top 10. Siendo Mazda la marca Japonesa más publicada."
   ]
  },
  {
   "cell_type": "code",
   "execution_count": 46,
   "metadata": {},
   "outputs": [
    {
     "data": {
      "image/png": "[encoded data removed]",
      "text/plain": [
       "<Figure size 1440x576 with 1 Axes>"
      ]
     },
     "metadata": {
      "needs_background": "light"
     },
     "output_type": "display_data"
    }
   ],
   "source": [
    "# Obtener el recuento de marcas de vehículos\n",
    "brand_counts = data['Brand'].value_counts()\n",
    "\n",
    "# Definir el umbral de frecuencia mínima\n",
    "umbral = 3000\n",
    "\n",
    "# Filtrar las marcas que cumplen con el umbral de frecuencia mínima\n",
    "filtered_brands = brand_counts[brand_counts >= umbral].index\n",
    "\n",
    "# Crear un nuevo DataFrame con las marcas de vehículos filtradas y los precios correspondientes\n",
    "data_filtered = data[data['Brand'].isin(filtered_brands)][['Brand', 'Price']]\n",
    "\n",
    "# Eliminar filas con valores NaN en la columna de precios\n",
    "data_filtered = data_filtered.dropna(subset=['Price'])\n",
    "\n",
    "# Crear el boxplot usando seaborn\n",
    "plt.figure(figsize=(20, 8))\n",
    "sns.boxplot(data=data_filtered, y='Price', x='Brand')\n",
    "plt.ylabel('Brand')\n",
    "plt.xlabel('Price')\n",
    "plt.title('Boxplot: Price by Brand')\n",
    "plt.show()\n"
   ]
  },
  {
   "cell_type": "markdown",
   "metadata": {},
   "source": [
    "Mini se destaca por ser la marca más cara dentro de los datos filtrados. Seguido por Audi, BMW y Mercedes Benz que hace un poco de lógica. Y la marca Volkswagen, que es la más publicada, está dentro de los vehículos de valor \"normal\".\n"
   ]
  },
  {
   "cell_type": "markdown",
   "metadata": {},
   "source": [
    "##### Columna `NotRepaired`"
   ]
  },
  {
   "cell_type": "code",
   "execution_count": 47,
   "metadata": {},
   "outputs": [
    {
     "data": {
      "text/plain": [
       "no     247161\n",
       "yes     36054\n",
       "Name: NotRepaired, dtype: int64"
      ]
     },
     "execution_count": 47,
     "metadata": {},
     "output_type": "execute_result"
    }
   ],
   "source": [
    "data['NotRepaired'].value_counts()"
   ]
  },
  {
   "cell_type": "code",
   "execution_count": 48,
   "metadata": {},
   "outputs": [
    {
     "data": {
      "image/png": "[encoded data removed]",
      "text/plain": [
       "<Figure size 432x288 with 1 Axes>"
      ]
     },
     "metadata": {
      "needs_background": "light"
     },
     "output_type": "display_data"
    }
   ],
   "source": [
    "NotRepaired_counts = data['NotRepaired'].value_counts()\n",
    "plt.bar(NotRepaired_counts.index, NotRepaired_counts.values)\n",
    "plt.xlabel('NotRepaired')\n",
    "plt.ylabel('Cantidad')\n",
    "plt.title('Histogram of NotRepaired')\n",
    "plt.xticks(rotation=45)\n",
    "plt.show()"
   ]
  },
  {
   "cell_type": "markdown",
   "metadata": {},
   "source": [
    "Esta columna, es la que tiene la mayor cantidad de datos faltantes. Si vemos la mayoría de datos existentes, podemos llegar a la conclusión de que llenaremos los datos vacíos con la categoría \"no\". También cabe mencionar, que esta columna es fácil de codificarse, sin necesidad de crear nuevas columnas."
   ]
  },
  {
   "cell_type": "code",
   "execution_count": 49,
   "metadata": {},
   "outputs": [
    {
     "data": {
      "image/png": "[encoded data removed]",
      "text/plain": [
       "<Figure size 576x432 with 1 Axes>"
      ]
     },
     "metadata": {
      "needs_background": "light"
     },
     "output_type": "display_data"
    }
   ],
   "source": [
    "# Eliminar filas con valores NaN en las columnas 'NotRepaired' y 'Price'\n",
    "NotRepaired_boxplot = data.dropna(subset=['NotRepaired', 'Price'])\n",
    "\n",
    "# Crear el boxplot usando seaborn\n",
    "plt.figure(figsize=(8, 6))\n",
    "sns.boxplot(data=NotRepaired_boxplot, x='NotRepaired', y='Price')\n",
    "plt.xlabel('NotRepaired')\n",
    "plt.ylabel('Price')\n",
    "plt.title('Boxplot: NotRepaired vs Price')\n",
    "plt.show()\n",
    "\n"
   ]
  },
  {
   "cell_type": "markdown",
   "metadata": {},
   "source": [
    "Observamos que los vehículos No reparados, tienen mayor valor, que es lógico. Porque un vehículo usado no reparado tiene mejor avalúo."
   ]
  },
  {
   "cell_type": "markdown",
   "metadata": {},
   "source": [
    "## Preparación de datos"
   ]
  },
  {
   "cell_type": "markdown",
   "metadata": {},
   "source": [
    "Antes de alterar el DataFrame, crearemos una copia por si necesitaremos hacer comparaciones."
   ]
  },
  {
   "cell_type": "code",
   "execution_count": 50,
   "metadata": {},
   "outputs": [],
   "source": [
    "data_raw = data.copy()"
   ]
  },
  {
   "cell_type": "markdown",
   "metadata": {},
   "source": [
    "#### Eliminación de columnas"
   ]
  },
  {
   "cell_type": "markdown",
   "metadata": {},
   "source": [
    "Los modelos podrán tener problemas con las columnas de fechas, PostalCode y Model. Confundirán a los modelos. Por lo tanto eliminaremos todas estas columnas."
   ]
  },
  {
   "cell_type": "code",
   "execution_count": 51,
   "metadata": {},
   "outputs": [],
   "source": [
    "#Eliminaremos las columnas\n",
    "data = data.drop(['DateCrawled', 'DateCreated', 'LastSeen', 'PostalCode', 'NumberOfPictures'], axis=1)"
   ]
  },
  {
   "cell_type": "code",
   "execution_count": 52,
   "metadata": {},
   "outputs": [
    {
     "name": "stdout",
     "output_type": "stream",
     "text": [
      "<class 'pandas.core.frame.DataFrame'>\n",
      "RangeIndex: 354369 entries, 0 to 354368\n",
      "Data columns (total 11 columns):\n",
      " #   Column             Non-Null Count   Dtype \n",
      "---  ------             --------------   ----- \n",
      " 0   Price              354369 non-null  int64 \n",
      " 1   VehicleType        316879 non-null  object\n",
      " 2   RegistrationYear   354369 non-null  int64 \n",
      " 3   Gearbox            334536 non-null  object\n",
      " 4   Power              354369 non-null  int64 \n",
      " 5   Model              334664 non-null  object\n",
      " 6   Mileage            354369 non-null  int64 \n",
      " 7   RegistrationMonth  354369 non-null  int64 \n",
      " 8   FuelType           321474 non-null  object\n",
      " 9   Brand              354369 non-null  object\n",
      " 10  NotRepaired        283215 non-null  object\n",
      "dtypes: int64(5), object(6)\n",
      "memory usage: 29.7+ MB\n"
     ]
    }
   ],
   "source": [
    "#Comprobamos como queda el DataFrame\n",
    "data.info()"
   ]
  },
  {
   "cell_type": "markdown",
   "metadata": {},
   "source": [
    "#### Limpieza de datos atípicos"
   ]
  },
  {
   "cell_type": "markdown",
   "metadata": {},
   "source": [
    "Apliquemos los límites encontrados en la exploración de datos"
   ]
  },
  {
   "cell_type": "code",
   "execution_count": 53,
   "metadata": {},
   "outputs": [],
   "source": [
    "data = data[(data['Power']<=300) & (data['Power']>=40)]\n",
    "data = data[(data['RegistrationYear']<=2023) & (data['RegistrationYear']>=1990)]"
   ]
  },
  {
   "cell_type": "code",
   "execution_count": 54,
   "metadata": {},
   "outputs": [
    {
     "name": "stdout",
     "output_type": "stream",
     "text": [
      "<class 'pandas.core.frame.DataFrame'>\n",
      "Int64Index: 302760 entries, 1 to 354368\n",
      "Data columns (total 11 columns):\n",
      " #   Column             Non-Null Count   Dtype \n",
      "---  ------             --------------   ----- \n",
      " 0   Price              302760 non-null  int64 \n",
      " 1   VehicleType        280532 non-null  object\n",
      " 2   RegistrationYear   302760 non-null  int64 \n",
      " 3   Gearbox            296626 non-null  object\n",
      " 4   Power              302760 non-null  int64 \n",
      " 5   Model              290821 non-null  object\n",
      " 6   Mileage            302760 non-null  int64 \n",
      " 7   RegistrationMonth  302760 non-null  int64 \n",
      " 8   FuelType           282432 non-null  object\n",
      " 9   Brand              302760 non-null  object\n",
      " 10  NotRepaired        255375 non-null  object\n",
      "dtypes: int64(5), object(6)\n",
      "memory usage: 27.7+ MB\n"
     ]
    }
   ],
   "source": [
    "data.info()"
   ]
  },
  {
   "cell_type": "markdown",
   "metadata": {},
   "source": [
    "Como anteriormente mencionado, observamos que los datos vacíos correspondían a los anuncios fuera de rangos normales."
   ]
  },
  {
   "cell_type": "markdown",
   "metadata": {},
   "source": [
    "#### Llenado de datos vacíos"
   ]
  },
  {
   "cell_type": "code",
   "execution_count": 55,
   "metadata": {},
   "outputs": [],
   "source": [
    "data['VehicleType'].fillna(value='other', axis=0, inplace=True)\n",
    "data['FuelType'].fillna(value='other', axis=0, inplace=True)\n",
    "data['Gearbox'].fillna(value='manual', axis=0, inplace=True)\n",
    "data['NotRepaired'].fillna(value='no', axis=0, inplace=True)\n",
    "data['Model'].fillna(value='unknown', axis=0, inplace=True)"
   ]
  },
  {
   "cell_type": "code",
   "execution_count": 56,
   "metadata": {},
   "outputs": [
    {
     "name": "stdout",
     "output_type": "stream",
     "text": [
      "<class 'pandas.core.frame.DataFrame'>\n",
      "Int64Index: 302760 entries, 1 to 354368\n",
      "Data columns (total 11 columns):\n",
      " #   Column             Non-Null Count   Dtype \n",
      "---  ------             --------------   ----- \n",
      " 0   Price              302760 non-null  int64 \n",
      " 1   VehicleType        302760 non-null  object\n",
      " 2   RegistrationYear   302760 non-null  int64 \n",
      " 3   Gearbox            302760 non-null  object\n",
      " 4   Power              302760 non-null  int64 \n",
      " 5   Model              302760 non-null  object\n",
      " 6   Mileage            302760 non-null  int64 \n",
      " 7   RegistrationMonth  302760 non-null  int64 \n",
      " 8   FuelType           302760 non-null  object\n",
      " 9   Brand              302760 non-null  object\n",
      " 10  NotRepaired        302760 non-null  object\n",
      "dtypes: int64(5), object(6)\n",
      "memory usage: 27.7+ MB\n"
     ]
    }
   ],
   "source": [
    "#Comprobamos como quedó el DataFrame\n",
    "data.info()"
   ]
  },
  {
   "cell_type": "markdown",
   "metadata": {},
   "source": [
    "#### Columnas `str`:"
   ]
  },
  {
   "cell_type": "markdown",
   "metadata": {},
   "source": [
    "Codifiquemos las columnas con datos de tipo `str`, para que los modelos no tengan problemas:"
   ]
  },
  {
   "cell_type": "code",
   "execution_count": 57,
   "metadata": {},
   "outputs": [
    {
     "data": {
      "text/plain": [
       "(302760, 20)"
      ]
     },
     "execution_count": 57,
     "metadata": {},
     "output_type": "execute_result"
    }
   ],
   "source": [
    "data_1 = data.copy()\n",
    "\n",
    "#Apliquemos el método OrdinalEnconder\n",
    "enc = OrdinalEncoder()\n",
    "data_enc = data_1.copy()\n",
    "data_enc[['VehicleType', 'FuelType', 'NotRepaired', 'Gearbox', 'Model', 'Brand']] = enc.fit_transform(data_1[['VehicleType', 'FuelType', 'NotRepaired', 'Gearbox', 'Model', 'Brand']])\n",
    "#data_enc[['VehicleType', 'FuelType', 'NotRepaired', 'Gearbox']] = enc.fit_transform(data_1[['VehicleType', 'FuelType', 'NotRepaired', 'Gearbox']])\n",
    "\n",
    "#Eliminamos las columnas Model y Brand por su gran cantidad de variables\n",
    "data_1 = data.drop(['Model','Brand'], axis=1)\n",
    "\n",
    "#Creamos las variables dummies, excepto por las columnas las columnas eliminadas\n",
    "data_ohe = pd.get_dummies(data_1, drop_first=True)\n",
    "\n",
    "#Veamos como queda el set de datos\n",
    "data_ohe.shape\n"
   ]
  },
  {
   "cell_type": "markdown",
   "metadata": {},
   "source": [
    "#### Features y Targets"
   ]
  },
  {
   "cell_type": "code",
   "execution_count": 58,
   "metadata": {},
   "outputs": [],
   "source": [
    "#Fijamos una semilla\n",
    "rs = RandomState(54321)"
   ]
  },
  {
   "cell_type": "markdown",
   "metadata": {},
   "source": [
    "Separamos los datos codificados con OrdinalEnconder:"
   ]
  },
  {
   "cell_type": "code",
   "execution_count": 59,
   "metadata": {},
   "outputs": [
    {
     "name": "stdout",
     "output_type": "stream",
     "text": [
      "Conjunto entrenamiento:\n",
      "(181656, 10)\n",
      "(181656,)\n",
      "\n",
      "Conjunto de testeo:\n",
      "(60552, 10)\n",
      "(60552,)\n",
      "\n",
      "Conjunto de validación:\n",
      "(60552, 10)\n",
      "(60552,)\n"
     ]
    }
   ],
   "source": [
    "#Separación de datos para la validación\n",
    "rest_enc, valid = train_test_split(data_enc, test_size=0.20, random_state=rs)\n",
    "\n",
    "#Separación de datos para entrenamiento y testeo\n",
    "train, test = train_test_split(rest_enc, test_size=0.25, random_state=rs)\n",
    "\n",
    "#Creación de features y targets para entrenamiento\n",
    "features_train_enc = train.drop('Price', axis=1)\n",
    "targets_train_enc = train['Price']\n",
    "\n",
    "#Creación de features y targets para testeo\n",
    "features_test_enc = test.drop('Price', axis=1)\n",
    "targets_test_enc = test['Price']\n",
    "\n",
    "#Creación de features y targets para validación\n",
    "features_valid_enc = valid.drop('Price', axis=1)\n",
    "targets_valid_enc = valid['Price']\n",
    "\n",
    "#Comprobemos el tamaño de los sets\n",
    "print(\"Conjunto entrenamiento:\")\n",
    "print(features_train_enc.shape)\n",
    "print(targets_train_enc.shape)\n",
    "print()\n",
    "print(\"Conjunto de testeo:\")\n",
    "print(features_test_enc.shape)\n",
    "print(targets_test_enc.shape)\n",
    "print()\n",
    "print(\"Conjunto de validación:\")\n",
    "print(features_valid_enc.shape)\n",
    "print(targets_valid_enc.shape)"
   ]
  },
  {
   "cell_type": "markdown",
   "metadata": {},
   "source": [
    "#### Separaremos los datos con OHE:"
   ]
  },
  {
   "cell_type": "code",
   "execution_count": 60,
   "metadata": {},
   "outputs": [
    {
     "name": "stdout",
     "output_type": "stream",
     "text": [
      "Conjunto entrenamiento:\n",
      "(181656, 19)\n",
      "(181656,)\n",
      "\n",
      "Conjunto de testeo:\n",
      "(60552, 19)\n",
      "(60552,)\n",
      "\n",
      "Conjunto de validación:\n",
      "(60552, 19)\n",
      "(60552,)\n"
     ]
    }
   ],
   "source": [
    "#Separamos los datos para la validación\n",
    "rest_ohe, valid = train_test_split(data_ohe, test_size=0.20, random_state=rs)\n",
    "\n",
    "#Separamos los datos de entrenamiento y testeo\n",
    "train, test = train_test_split(rest_ohe, test_size=0.25, random_state=rs)\n",
    "\n",
    "#Creamos features y targets para entrenamiento\n",
    "features_train_ohe = train.drop('Price', axis=1)\n",
    "targets_train_ohe = train['Price']\n",
    "\n",
    "#Creamos features y targets para testeo\n",
    "features_test_ohe = test.drop('Price', axis=1)\n",
    "targets_test_ohe = test['Price']\n",
    "\n",
    "#Creamos features y targets para validación\n",
    "features_valid_ohe = valid.drop('Price', axis=1)\n",
    "targets_valid_ohe = valid['Price']\n",
    "\n",
    "#Creamos features y targets para el entrenamiento de validación\n",
    "features_rest_ohe = rest_ohe.drop('Price', axis=1)\n",
    "targets_rest_ohe = rest_ohe['Price']\n",
    "\n",
    "#Comprobemos el tamaño de los sets\n",
    "print(\"Conjunto entrenamiento:\")\n",
    "print(features_train_ohe.shape)\n",
    "print(targets_train_ohe.shape)\n",
    "print()\n",
    "print(\"Conjunto de testeo:\")\n",
    "print(features_test_ohe.shape)\n",
    "print(targets_test_ohe.shape)\n",
    "print()\n",
    "print(\"Conjunto de validación:\")\n",
    "print(features_valid_ohe.shape)\n",
    "print(targets_valid_ohe.shape)"
   ]
  },
  {
   "cell_type": "markdown",
   "metadata": {},
   "source": [
    "#### Separamos los datos no codificados:"
   ]
  },
  {
   "cell_type": "code",
   "execution_count": 61,
   "metadata": {},
   "outputs": [
    {
     "name": "stdout",
     "output_type": "stream",
     "text": [
      "Conjunto entrenamiento:\n",
      "(181656, 10)\n",
      "(181656,)\n",
      "\n",
      "Conjunto de testeo:\n",
      "(60552, 10)\n",
      "(60552,)\n",
      "\n",
      "Conjunto de validación:\n",
      "(60552, 10)\n",
      "(60552,)\n"
     ]
    }
   ],
   "source": [
    "#Separamos los datos para la validación\n",
    "rest, valid = train_test_split(data, test_size=0.20, random_state=rs)\n",
    "\n",
    "#Separamos los datos para entrenamiento y testeo\n",
    "train, test = train_test_split(rest, test_size=0.25, random_state=rs)\n",
    "\n",
    "#Creamos features y targets para entrenamiento\n",
    "features_train = train.drop('Price', axis=1)\n",
    "targets_train = train['Price']\n",
    "\n",
    "#Creamos features y targets para testeo\n",
    "features_test = test.drop('Price', axis=1)\n",
    "targets_test = test['Price']\n",
    "\n",
    "#Creamos features y targets para validación\n",
    "features_valid = valid.drop('Price', axis=1)\n",
    "targets_valid = valid['Price']\n",
    "\n",
    "#Creamos features y targets para el entrenamiento de la validación\n",
    "features_rest = rest.drop('Price', axis=1)\n",
    "targets_rest = rest['Price']\n",
    "\n",
    "#Comprobemos el tamaño de los sets\n",
    "print(\"Conjunto entrenamiento:\")\n",
    "print(features_train.shape)\n",
    "print(targets_train.shape)\n",
    "print()\n",
    "print(\"Conjunto de testeo:\")\n",
    "print(features_test.shape)\n",
    "print(targets_test.shape)\n",
    "print()\n",
    "print(\"Conjunto de validación:\")\n",
    "print(features_valid.shape)\n",
    "print(targets_valid.shape)"
   ]
  },
  {
   "cell_type": "markdown",
   "metadata": {},
   "source": [
    "## Entrenamiento del modelo "
   ]
  },
  {
   "cell_type": "markdown",
   "metadata": {},
   "source": [
    "### Prueba de cordura con regresión lineal"
   ]
  },
  {
   "cell_type": "code",
   "execution_count": 62,
   "metadata": {
    "scrolled": true
   },
   "outputs": [
    {
     "name": "stdout",
     "output_type": "stream",
     "text": [
      "Tiempo de entrenamiento:\n",
      "CPU times: user 128 ms, sys: 106 ms, total: 234 ms\n",
      "Wall time: 188 ms\n",
      "\n",
      "Tiempo de predicción:\n",
      "CPU times: user 11.6 ms, sys: 11 ms, total: 22.6 ms\n",
      "Wall time: 80.2 ms\n",
      "\n",
      "RECM: \n",
      "2662.372294314971\n"
     ]
    }
   ],
   "source": [
    "reg = LinearRegression()\n",
    "print('Tiempo de entrenamiento:')\n",
    "%time reg.fit(features_train_ohe, targets_train_ohe)\n",
    "print()\n",
    "print('Tiempo de predicción:')\n",
    "%time reg_pred_ohe = reg.predict(features_valid_ohe)\n",
    "print()\n",
    "print('RECM: ')\n",
    "print(mean_squared_error(targets_valid_ohe, reg_pred_ohe, squared=False))"
   ]
  },
  {
   "cell_type": "markdown",
   "metadata": {},
   "source": [
    "### Bosque aleatorio con ajuste de hiperparámetros"
   ]
  },
  {
   "cell_type": "code",
   "execution_count": 63,
   "metadata": {
    "scrolled": true
   },
   "outputs": [],
   "source": [
    "# score = max(data['Price'])\n",
    "# n=1\n",
    "# for roots in range(3,8):\n",
    "#     for leafs in range(3,8):\n",
    "#         print('Round', n)\n",
    "#         forest = RandomForestRegressor(random_state=rs, max_depth=roots, min_samples_leaf=leafs)\n",
    "#         print('Tiempo de entrenamiento:')\n",
    "#         %time forest.fit(features_train_enc, targets_train_enc)\n",
    "#         print('Tiempo de predicción:')\n",
    "#         %time f_pred = forest.predict(features_valid_enc)\n",
    "#         sco = mean_squared_error(targets_valid_enc, f_pred, squared=False)\n",
    "#         print('RECM:', sco)\n",
    "#         print()\n",
    "#         if sco < score:\n",
    "#             score = sco\n",
    "#             best_root = roots\n",
    "#             best_leaf = leafs\n",
    "#             best_pred = f_pred\n",
    "#             best_n = n\n",
    "#         n += 1\n",
    "        \n",
    "# best_forest = RandomForestRegressor(random_state = rs, max_depth = best_root, min_samples_leaf = best_leaf)\n",
    "# print()\n",
    "# print('Mejor round:', best_n)\n",
    "# print('Mejor RECM:', score)"
   ]
  },
  {
   "cell_type": "code",
   "execution_count": 64,
   "metadata": {},
   "outputs": [],
   "source": [
    "# # Definir los rangos de los hiperparámetros a probar\n",
    "# param_dist = {\n",
    "#     'max_depth': sp_randint(3, 8),\n",
    "#     'min_samples_leaf': sp_randint(2, 8)\n",
    "# }\n",
    "\n",
    "# # Crear el modelo de Bosque Aleatorio\n",
    "# model = RandomForestRegressor(random_state=rs)\n",
    "\n",
    "# # Crear el objeto RandomizedSearchCV\n",
    "# random_search = RandomizedSearchCV(estimator=model, param_distributions=param_dist, n_iter=10, cv=5, scoring=make_scorer(mean_squared_error, squared=False))\n",
    "\n",
    "# # Realizar la búsqueda aleatoria\n",
    "# random_search.fit(features_train_enc, targets_train_enc)\n",
    "\n",
    "# # Obtener los mejores hiperparámetros y el mejor score\n",
    "# best_params = random_search.best_params_\n",
    "# best_score = random_search.best_score_\n",
    "\n",
    "# # Imprimir los mejores hiperparámetros y el mejor score\n",
    "# print('Mejores hiperparámetros:', best_params)\n",
    "# print('Mejor RECM:', best_score)\n",
    "\n"
   ]
  },
  {
   "cell_type": "code",
   "execution_count": 65,
   "metadata": {},
   "outputs": [
    {
     "name": "stdout",
     "output_type": "stream",
     "text": [
      "CPU times: user 31min 33s, sys: 797 ms, total: 31min 34s\n",
      "Wall time: 31min 35s\n",
      "Mejores hiperparámetros: {'max_depth': 3, 'min_samples_leaf': 3}\n",
      "Mejor RECM: 2855.5231414933924\n"
     ]
    }
   ],
   "source": [
    "from sklearn.ensemble import RandomForestRegressor\n",
    "from sklearn.model_selection import GridSearchCV\n",
    "from sklearn.metrics import make_scorer, mean_squared_error\n",
    "\n",
    "# Definir los hiperparámetros a probar\n",
    "param_grid = {\n",
    "    'max_depth': [3, 4, 5, 6, 7],\n",
    "    'min_samples_leaf': [3, 4, 5, 6, 7]\n",
    "}\n",
    "\n",
    "# Crear el modelo de Bosque Aleatorio\n",
    "model = RandomForestRegressor(random_state=rs)\n",
    "\n",
    "# Crear el objeto GridSearchCV\n",
    "grid_search = GridSearchCV(estimator=model, param_grid=param_grid, cv=5, scoring=make_scorer(mean_squared_error, squared=False))\n",
    "\n",
    "# Definir una función para realizar la búsqueda de hiperparámetros\n",
    "def run_grid_search():\n",
    "    grid_search.fit(features_train_enc, targets_train_enc)\n",
    "\n",
    "# Medir el tiempo de ejecución utilizando %time\n",
    "%time run_grid_search()\n",
    "\n",
    "# Obtener los mejores hiperparámetros y el mejor score\n",
    "best_params = grid_search.best_params_\n",
    "best_score = grid_search.best_score_\n",
    "\n",
    "# Imprimir los mejores hiperparámetros y el mejor score\n",
    "print('Mejores hiperparámetros:', best_params)\n",
    "print('Mejor RECM:', best_score)"
   ]
  },
  {
   "cell_type": "code",
   "execution_count": 66,
   "metadata": {},
   "outputs": [
    {
     "name": "stdout",
     "output_type": "stream",
     "text": [
      "Tiempo de entrenamiento:\n",
      "CPU times: user 11.9 s, sys: 7.98 ms, total: 11.9 s\n",
      "Wall time: 11.9 s\n",
      "Tiempo de predicción:\n",
      "CPU times: user 182 ms, sys: 0 ns, total: 182 ms\n",
      "Wall time: 182 ms\n",
      "\n",
      "Mejor RECM: 2842.757068515389\n"
     ]
    }
   ],
   "source": [
    "# Utilizar los mejores hiperparámetros en el modelo\n",
    "best_forest = RandomForestRegressor(random_state=rs, max_depth=best_params['max_depth'], min_samples_leaf=best_params['min_samples_leaf'])\n",
    "\n",
    "# Entrenar el modelo con los mejores hiperparámetros\n",
    "print('Tiempo de entrenamiento:')\n",
    "%time best_forest.fit(features_train_enc, targets_train_enc)\n",
    "\n",
    "# Realizar predicciones utilizando el modelo entrenado\n",
    "print('Tiempo de predicción:')\n",
    "%time f_pred = best_forest.predict(features_valid_enc)\n",
    "\n",
    "# Calcular el score final\n",
    "score = mean_squared_error(targets_valid_enc, f_pred, squared=False)\n",
    "\n",
    "print()\n",
    "print('Mejor RECM:', score)"
   ]
  },
  {
   "cell_type": "code",
   "execution_count": 82,
   "metadata": {},
   "outputs": [
    {
     "name": "stdout",
     "output_type": "stream",
     "text": [
      "14 s ± 0 ns per loop (mean ± std. dev. of 1 run, 1 loop each)\n",
      "195 ms ± 0 ns per loop (mean ± std. dev. of 1 run, 1 loop each)\n"
     ]
    }
   ],
   "source": [
    "tiempo_entrenamiento_bosque = %timeit -n1 -r1 -o best_forest.fit(features_train_enc, targets_train_enc)\n",
    "tiempo_predicción_bosque = %timeit -n1 -r1 -o best_forest.predict(features_valid_enc) \n",
    "error_test_bosque = mean_squared_error(targets_valid_enc, f_pred, squared=False)"
   ]
  },
  {
   "cell_type": "code",
   "execution_count": 83,
   "metadata": {},
   "outputs": [],
   "source": [
    "#Creamos una lista vacía para poder juntar todos los modelos en dicha lista\n",
    "resultados_modelos = []\n",
    "#Agregamos los resultados en nuestra lista vacía\n",
    "resultados_modelos.append({\n",
    "    'modelo' : 'RandomForestRegressor',\n",
    "    'tiempo de entrenamiento' : tiempo_entrenamiento_bosque,\n",
    "    'tiempo de predicción' : tiempo_predicción_bosque,\n",
    "    'error de test' : error_test_bosque    \n",
    "})"
   ]
  },
  {
   "cell_type": "markdown",
   "metadata": {},
   "source": [
    "Observamos que el RECM va a la baja. Vamos por buen camino."
   ]
  },
  {
   "cell_type": "markdown",
   "metadata": {},
   "source": [
    "### CatBoost"
   ]
  },
  {
   "cell_type": "code",
   "execution_count": 85,
   "metadata": {
    "scrolled": true
   },
   "outputs": [
    {
     "name": "stdout",
     "output_type": "stream",
     "text": [
      "Tiempo de entrenamiento:\n",
      "CPU times: user 54.1 s, sys: 72 ms, total: 54.1 s\n",
      "Wall time: 54.5 s\n",
      "\n",
      "Tiempo de predicción:\n",
      "CPU times: user 171 ms, sys: 0 ns, total: 171 ms\n",
      "Wall time: 171 ms\n",
      "1628.6893605242037\n"
     ]
    }
   ],
   "source": [
    "cat = CatBoostRegressor(iterations=200, cat_features=['VehicleType', 'FuelType', 'NotRepaired', 'Gearbox' , 'Model', 'Brand'], silent=True)\n",
    "print('Tiempo de entrenamiento:')\n",
    "%time cat.fit(features_train, targets_train, eval_set=(features_valid, targets_valid))\n",
    "print()\n",
    "print('Tiempo de predicción:')\n",
    "%time cat_pred = cat.predict(features_valid)\n",
    "print(mean_squared_error(targets_valid, cat_pred, squared=False))"
   ]
  },
  {
   "cell_type": "code",
   "execution_count": 86,
   "metadata": {},
   "outputs": [
    {
     "name": "stdout",
     "output_type": "stream",
     "text": [
      "53.4 s ± 0 ns per loop (mean ± std. dev. of 1 run, 1 loop each)\n",
      "171 ms ± 0 ns per loop (mean ± std. dev. of 1 run, 1 loop each)\n"
     ]
    }
   ],
   "source": [
    "tiempo_modelo_catboost = %timeit -n1 -r1 -o cat.fit(features_train, targets_train, eval_set=(features_valid, targets_valid))\n",
    "tiempo_predicción_catboost = %timeit -n1 -r1 -o cat.predict(features_valid)\n",
    "error_catboost = mean_squared_error(targets_valid, cat_pred, squared=False)"
   ]
  },
  {
   "cell_type": "code",
   "execution_count": 87,
   "metadata": {},
   "outputs": [],
   "source": [
    "resultados_modelos.append({\n",
    "    'modelo' : 'Regresion CATBoost',\n",
    "    'tiempo de entrenamiento' : tiempo_modelo_catboost,\n",
    "    'tiempo de predicción' : tiempo_predicción_catboost,\n",
    "    'error de test' : error_catboost\n",
    "})"
   ]
  },
  {
   "cell_type": "markdown",
   "metadata": {},
   "source": [
    "Al aplicar modelo de potenciación de gradiente, logramos obtener resultados mucho mejores que con los 2 modelos anteriores. Además, el tiempo de demora en ejecutarse es menor que el tiempo total que se demora el bosque aleatorio. Por el momento, este es nuestra mejor opción."
   ]
  },
  {
   "cell_type": "markdown",
   "metadata": {},
   "source": [
    "### LightGBM con ajuste de hiperparámetros"
   ]
  },
  {
   "cell_type": "markdown",
   "metadata": {},
   "source": [
    "Antes de poder aplicar este modelo, debemos cambiar el tipo de datos a columnas categóricas."
   ]
  },
  {
   "cell_type": "code",
   "execution_count": 89,
   "metadata": {},
   "outputs": [],
   "source": [
    "features_train[['VehicleType', 'FuelType', 'NotRepaired', 'Gearbox' , 'Model', 'Brand']]= features_train[['VehicleType', 'FuelType', 'NotRepaired', 'Gearbox' , 'Model', 'Brand']].astype('category')\n",
    "features_valid[['VehicleType', 'FuelType', 'NotRepaired', 'Gearbox' , 'Model', 'Brand']]= features_valid[['VehicleType', 'FuelType', 'NotRepaired', 'Gearbox' , 'Model', 'Brand']].astype('category')\n",
    "features_test[['VehicleType', 'FuelType', 'NotRepaired', 'Gearbox' , 'Model', 'Brand']]= features_test[['VehicleType', 'FuelType', 'NotRepaired', 'Gearbox' , 'Model', 'Brand']].astype('category')\n",
    "features_rest[['VehicleType', 'FuelType', 'NotRepaired', 'Gearbox' , 'Model', 'Brand']]= features_rest[['VehicleType', 'FuelType', 'NotRepaired', 'Gearbox' , 'Model', 'Brand']].astype('category')"
   ]
  },
  {
   "cell_type": "markdown",
   "metadata": {},
   "source": [
    "Ahora podemos crear, entrenar y aplicar el modelo LightGBM."
   ]
  },
  {
   "cell_type": "code",
   "execution_count": 90,
   "metadata": {
    "scrolled": true
   },
   "outputs": [
    {
     "name": "stdout",
     "output_type": "stream",
     "text": [
      "Tiempo de entrenamiento:\n"
     ]
    },
    {
     "name": "stderr",
     "output_type": "stream",
     "text": [
      "/opt/conda/lib/python3.9/site-packages/lightgbm/basic.py:2065: UserWarning: Using categorical_feature in Dataset.\n",
      "  _log_warning('Using categorical_feature in Dataset.')\n",
      "/opt/conda/lib/python3.9/site-packages/lightgbm/basic.py:2068: UserWarning: categorical_feature in Dataset is overridden.\n",
      "New categorical_feature is ['Brand', 'FuelType', 'Gearbox', 'Model', 'NotRepaired', 'VehicleType']\n",
      "  _log_warning('categorical_feature in Dataset is overridden.\\n'\n",
      "/opt/conda/lib/python3.9/site-packages/lightgbm/basic.py:1780: UserWarning: Overriding the parameters from Reference Dataset.\n",
      "  _log_warning('Overriding the parameters from Reference Dataset.')\n",
      "/opt/conda/lib/python3.9/site-packages/lightgbm/basic.py:1513: UserWarning: categorical_column in param dict is overridden.\n",
      "  _log_warning(f'{cat_alias} in param dict is overridden.')\n"
     ]
    },
    {
     "name": "stdout",
     "output_type": "stream",
     "text": [
      "[1]\tvalid_0's rmse: 4180.11\tvalid_0's l2: 1.74733e+07\n",
      "[2]\tvalid_0's rmse: 3886.96\tvalid_0's l2: 1.51084e+07\n",
      "[3]\tvalid_0's rmse: 3629.22\tvalid_0's l2: 1.31712e+07\n",
      "[4]\tvalid_0's rmse: 3402.73\tvalid_0's l2: 1.15786e+07\n",
      "[5]\tvalid_0's rmse: 3199.49\tvalid_0's l2: 1.02368e+07\n",
      "[6]\tvalid_0's rmse: 3021.25\tvalid_0's l2: 9.12793e+06\n",
      "[7]\tvalid_0's rmse: 2865.32\tvalid_0's l2: 8.21005e+06\n",
      "[8]\tvalid_0's rmse: 2723.8\tvalid_0's l2: 7.41907e+06\n",
      "[9]\tvalid_0's rmse: 2600.01\tvalid_0's l2: 6.76006e+06\n",
      "[10]\tvalid_0's rmse: 2491.92\tvalid_0's l2: 6.20968e+06\n",
      "[11]\tvalid_0's rmse: 2397.19\tvalid_0's l2: 5.74651e+06\n",
      "[12]\tvalid_0's rmse: 2312.48\tvalid_0's l2: 5.34755e+06\n",
      "[13]\tvalid_0's rmse: 2238.05\tvalid_0's l2: 5.00885e+06\n",
      "[14]\tvalid_0's rmse: 2172.63\tvalid_0's l2: 4.72031e+06\n",
      "[15]\tvalid_0's rmse: 2114.32\tvalid_0's l2: 4.47037e+06\n",
      "[16]\tvalid_0's rmse: 2065.64\tvalid_0's l2: 4.26686e+06\n",
      "[17]\tvalid_0's rmse: 2021.57\tvalid_0's l2: 4.08673e+06\n",
      "[18]\tvalid_0's rmse: 1981.9\tvalid_0's l2: 3.92791e+06\n",
      "[19]\tvalid_0's rmse: 1948.65\tvalid_0's l2: 3.79724e+06\n",
      "[20]\tvalid_0's rmse: 1918.85\tvalid_0's l2: 3.68197e+06\n",
      "[21]\tvalid_0's rmse: 1891.95\tvalid_0's l2: 3.57948e+06\n",
      "[22]\tvalid_0's rmse: 1870.13\tvalid_0's l2: 3.49737e+06\n",
      "[23]\tvalid_0's rmse: 1848.5\tvalid_0's l2: 3.41697e+06\n",
      "[24]\tvalid_0's rmse: 1830.03\tvalid_0's l2: 3.34901e+06\n",
      "[25]\tvalid_0's rmse: 1813.83\tvalid_0's l2: 3.28997e+06\n",
      "[26]\tvalid_0's rmse: 1799.26\tvalid_0's l2: 3.23735e+06\n",
      "[27]\tvalid_0's rmse: 1785.72\tvalid_0's l2: 3.18878e+06\n",
      "[28]\tvalid_0's rmse: 1774.63\tvalid_0's l2: 3.14931e+06\n",
      "[29]\tvalid_0's rmse: 1764.95\tvalid_0's l2: 3.11505e+06\n",
      "[30]\tvalid_0's rmse: 1755.28\tvalid_0's l2: 3.08102e+06\n",
      "[31]\tvalid_0's rmse: 1746.17\tvalid_0's l2: 3.04911e+06\n",
      "[32]\tvalid_0's rmse: 1738.96\tvalid_0's l2: 3.02398e+06\n",
      "[33]\tvalid_0's rmse: 1732.27\tvalid_0's l2: 3.00074e+06\n",
      "[34]\tvalid_0's rmse: 1724.94\tvalid_0's l2: 2.97543e+06\n",
      "[35]\tvalid_0's rmse: 1718.97\tvalid_0's l2: 2.95486e+06\n",
      "[36]\tvalid_0's rmse: 1714.37\tvalid_0's l2: 2.93906e+06\n",
      "[37]\tvalid_0's rmse: 1709.35\tvalid_0's l2: 2.92189e+06\n",
      "[38]\tvalid_0's rmse: 1705.13\tvalid_0's l2: 2.90748e+06\n",
      "[39]\tvalid_0's rmse: 1701.07\tvalid_0's l2: 2.89365e+06\n",
      "[40]\tvalid_0's rmse: 1697.46\tvalid_0's l2: 2.88136e+06\n",
      "[41]\tvalid_0's rmse: 1694.09\tvalid_0's l2: 2.86994e+06\n",
      "[42]\tvalid_0's rmse: 1691.29\tvalid_0's l2: 2.86046e+06\n",
      "[43]\tvalid_0's rmse: 1688.31\tvalid_0's l2: 2.8504e+06\n",
      "[44]\tvalid_0's rmse: 1685.16\tvalid_0's l2: 2.83977e+06\n",
      "[45]\tvalid_0's rmse: 1682.9\tvalid_0's l2: 2.83216e+06\n",
      "[46]\tvalid_0's rmse: 1679.73\tvalid_0's l2: 2.82149e+06\n",
      "[47]\tvalid_0's rmse: 1677.33\tvalid_0's l2: 2.81344e+06\n",
      "[48]\tvalid_0's rmse: 1674.84\tvalid_0's l2: 2.8051e+06\n",
      "[49]\tvalid_0's rmse: 1673.03\tvalid_0's l2: 2.79904e+06\n",
      "[50]\tvalid_0's rmse: 1670.79\tvalid_0's l2: 2.79153e+06\n",
      "[51]\tvalid_0's rmse: 1669.05\tvalid_0's l2: 2.78573e+06\n",
      "[52]\tvalid_0's rmse: 1666.11\tvalid_0's l2: 2.77592e+06\n",
      "[53]\tvalid_0's rmse: 1664.18\tvalid_0's l2: 2.7695e+06\n",
      "[54]\tvalid_0's rmse: 1662.79\tvalid_0's l2: 2.76488e+06\n",
      "[55]\tvalid_0's rmse: 1660.93\tvalid_0's l2: 2.7587e+06\n",
      "[56]\tvalid_0's rmse: 1659.13\tvalid_0's l2: 2.75273e+06\n",
      "[57]\tvalid_0's rmse: 1657.45\tvalid_0's l2: 2.74715e+06\n",
      "[58]\tvalid_0's rmse: 1656.08\tvalid_0's l2: 2.74261e+06\n",
      "[59]\tvalid_0's rmse: 1654.72\tvalid_0's l2: 2.7381e+06\n",
      "[60]\tvalid_0's rmse: 1653.7\tvalid_0's l2: 2.73472e+06\n",
      "[61]\tvalid_0's rmse: 1652.5\tvalid_0's l2: 2.73075e+06\n",
      "[62]\tvalid_0's rmse: 1650.92\tvalid_0's l2: 2.72553e+06\n",
      "[63]\tvalid_0's rmse: 1650.02\tvalid_0's l2: 2.72255e+06\n",
      "[64]\tvalid_0's rmse: 1649.17\tvalid_0's l2: 2.71976e+06\n",
      "[65]\tvalid_0's rmse: 1648.03\tvalid_0's l2: 2.71601e+06\n",
      "[66]\tvalid_0's rmse: 1647.36\tvalid_0's l2: 2.71379e+06\n",
      "[67]\tvalid_0's rmse: 1646.04\tvalid_0's l2: 2.70946e+06\n",
      "[68]\tvalid_0's rmse: 1644.86\tvalid_0's l2: 2.70556e+06\n",
      "[69]\tvalid_0's rmse: 1643.24\tvalid_0's l2: 2.70024e+06\n",
      "[70]\tvalid_0's rmse: 1642.37\tvalid_0's l2: 2.69738e+06\n",
      "[71]\tvalid_0's rmse: 1641.45\tvalid_0's l2: 2.69437e+06\n",
      "[72]\tvalid_0's rmse: 1639.9\tvalid_0's l2: 2.68927e+06\n",
      "[73]\tvalid_0's rmse: 1638.53\tvalid_0's l2: 2.68477e+06\n",
      "[74]\tvalid_0's rmse: 1637.65\tvalid_0's l2: 2.68191e+06\n",
      "[75]\tvalid_0's rmse: 1636.95\tvalid_0's l2: 2.6796e+06\n",
      "[76]\tvalid_0's rmse: 1636.08\tvalid_0's l2: 2.67675e+06\n",
      "[77]\tvalid_0's rmse: 1634.83\tvalid_0's l2: 2.67268e+06\n",
      "[78]\tvalid_0's rmse: 1634.15\tvalid_0's l2: 2.67044e+06\n",
      "[79]\tvalid_0's rmse: 1633.45\tvalid_0's l2: 2.66816e+06\n",
      "[80]\tvalid_0's rmse: 1632.83\tvalid_0's l2: 2.66612e+06\n",
      "[81]\tvalid_0's rmse: 1631.87\tvalid_0's l2: 2.663e+06\n",
      "[82]\tvalid_0's rmse: 1631.19\tvalid_0's l2: 2.66077e+06\n",
      "[83]\tvalid_0's rmse: 1630.33\tvalid_0's l2: 2.65798e+06\n",
      "[84]\tvalid_0's rmse: 1630.13\tvalid_0's l2: 2.65732e+06\n",
      "[85]\tvalid_0's rmse: 1629.55\tvalid_0's l2: 2.65543e+06\n",
      "[86]\tvalid_0's rmse: 1629.41\tvalid_0's l2: 2.65499e+06\n",
      "[87]\tvalid_0's rmse: 1628.46\tvalid_0's l2: 2.65188e+06\n",
      "[88]\tvalid_0's rmse: 1627.67\tvalid_0's l2: 2.6493e+06\n",
      "[89]\tvalid_0's rmse: 1627.24\tvalid_0's l2: 2.6479e+06\n",
      "[90]\tvalid_0's rmse: 1626.59\tvalid_0's l2: 2.6458e+06\n",
      "[91]\tvalid_0's rmse: 1626.32\tvalid_0's l2: 2.64491e+06\n",
      "[92]\tvalid_0's rmse: 1625.27\tvalid_0's l2: 2.6415e+06\n",
      "[93]\tvalid_0's rmse: 1624.9\tvalid_0's l2: 2.64029e+06\n",
      "[94]\tvalid_0's rmse: 1624.46\tvalid_0's l2: 2.63888e+06\n",
      "[95]\tvalid_0's rmse: 1624.04\tvalid_0's l2: 2.63749e+06\n",
      "[96]\tvalid_0's rmse: 1623.63\tvalid_0's l2: 2.63618e+06\n",
      "[97]\tvalid_0's rmse: 1623.29\tvalid_0's l2: 2.63508e+06\n",
      "[98]\tvalid_0's rmse: 1623.14\tvalid_0's l2: 2.63459e+06\n",
      "[99]\tvalid_0's rmse: 1621.92\tvalid_0's l2: 2.63063e+06\n",
      "[100]\tvalid_0's rmse: 1621.59\tvalid_0's l2: 2.62957e+06\n",
      "CPU times: user 5.84 s, sys: 40.1 ms, total: 5.88 s\n",
      "Wall time: 5.91 s\n",
      "\n",
      "Tiempo de predicción:\n",
      "CPU times: user 706 ms, sys: 0 ns, total: 706 ms\n",
      "Wall time: 704 ms\n",
      "1621.5941446407737\n"
     ]
    }
   ],
   "source": [
    "lgbm = lgb.LGBMRegressor(random_state = rs)\n",
    "print('Tiempo de entrenamiento:')\n",
    "%time lgbm.fit(features_train, targets_train, eval_metric = 'RMSE', categorical_feature=['VehicleType', 'FuelType', 'NotRepaired', 'Gearbox' , 'Model', 'Brand'], eval_set=(features_valid, targets_valid))\n",
    "print()\n",
    "print('Tiempo de predicción:')\n",
    "%time lgbm_pred = lgbm.predict(features_valid)\n",
    "print(mean_squared_error(targets_valid, lgbm_pred, squared=False))"
   ]
  },
  {
   "cell_type": "markdown",
   "metadata": {},
   "source": [
    "Podemos observar que el error es el más bajo y el tiempo de ejecución disminuyó bastante también. Podríamos decir que hemos encontrado el mejor modelo."
   ]
  },
  {
   "cell_type": "code",
   "execution_count": 91,
   "metadata": {
    "scrolled": true
   },
   "outputs": [
    {
     "name": "stderr",
     "output_type": "stream",
     "text": [
      "/opt/conda/lib/python3.9/site-packages/lightgbm/basic.py:2065: UserWarning: Using categorical_feature in Dataset.\n",
      "  _log_warning('Using categorical_feature in Dataset.')\n",
      "/opt/conda/lib/python3.9/site-packages/lightgbm/basic.py:2068: UserWarning: categorical_feature in Dataset is overridden.\n",
      "New categorical_feature is ['Brand', 'FuelType', 'Gearbox', 'Model', 'NotRepaired', 'VehicleType']\n",
      "  _log_warning('categorical_feature in Dataset is overridden.\\n'\n",
      "/opt/conda/lib/python3.9/site-packages/lightgbm/basic.py:1780: UserWarning: Overriding the parameters from Reference Dataset.\n",
      "  _log_warning('Overriding the parameters from Reference Dataset.')\n",
      "/opt/conda/lib/python3.9/site-packages/lightgbm/basic.py:1513: UserWarning: categorical_column in param dict is overridden.\n",
      "  _log_warning(f'{cat_alias} in param dict is overridden.')\n"
     ]
    },
    {
     "name": "stdout",
     "output_type": "stream",
     "text": [
      "[1]\tvalid_0's rmse: 4180.11\tvalid_0's l2: 1.74733e+07\n",
      "[2]\tvalid_0's rmse: 3886.96\tvalid_0's l2: 1.51084e+07\n",
      "[3]\tvalid_0's rmse: 3629.22\tvalid_0's l2: 1.31712e+07\n",
      "[4]\tvalid_0's rmse: 3402.73\tvalid_0's l2: 1.15786e+07\n",
      "[5]\tvalid_0's rmse: 3199.49\tvalid_0's l2: 1.02368e+07\n",
      "[6]\tvalid_0's rmse: 3021.25\tvalid_0's l2: 9.12793e+06\n",
      "[7]\tvalid_0's rmse: 2865.32\tvalid_0's l2: 8.21005e+06\n",
      "[8]\tvalid_0's rmse: 2723.8\tvalid_0's l2: 7.41907e+06\n",
      "[9]\tvalid_0's rmse: 2600.01\tvalid_0's l2: 6.76006e+06\n",
      "[10]\tvalid_0's rmse: 2491.92\tvalid_0's l2: 6.20968e+06\n",
      "[11]\tvalid_0's rmse: 2397.19\tvalid_0's l2: 5.74651e+06\n",
      "[12]\tvalid_0's rmse: 2312.48\tvalid_0's l2: 5.34755e+06\n",
      "[13]\tvalid_0's rmse: 2238.05\tvalid_0's l2: 5.00885e+06\n",
      "[14]\tvalid_0's rmse: 2172.63\tvalid_0's l2: 4.72031e+06\n",
      "[15]\tvalid_0's rmse: 2114.32\tvalid_0's l2: 4.47037e+06\n",
      "[16]\tvalid_0's rmse: 2065.64\tvalid_0's l2: 4.26686e+06\n",
      "[17]\tvalid_0's rmse: 2021.57\tvalid_0's l2: 4.08673e+06\n",
      "[18]\tvalid_0's rmse: 1981.9\tvalid_0's l2: 3.92791e+06\n",
      "[19]\tvalid_0's rmse: 1948.65\tvalid_0's l2: 3.79724e+06\n",
      "[20]\tvalid_0's rmse: 1918.85\tvalid_0's l2: 3.68197e+06\n",
      "[21]\tvalid_0's rmse: 1891.95\tvalid_0's l2: 3.57948e+06\n",
      "[22]\tvalid_0's rmse: 1870.13\tvalid_0's l2: 3.49737e+06\n",
      "[23]\tvalid_0's rmse: 1848.5\tvalid_0's l2: 3.41697e+06\n",
      "[24]\tvalid_0's rmse: 1830.03\tvalid_0's l2: 3.34901e+06\n",
      "[25]\tvalid_0's rmse: 1813.83\tvalid_0's l2: 3.28997e+06\n",
      "[26]\tvalid_0's rmse: 1799.26\tvalid_0's l2: 3.23735e+06\n",
      "[27]\tvalid_0's rmse: 1785.72\tvalid_0's l2: 3.18878e+06\n",
      "[28]\tvalid_0's rmse: 1774.63\tvalid_0's l2: 3.14931e+06\n",
      "[29]\tvalid_0's rmse: 1764.95\tvalid_0's l2: 3.11505e+06\n",
      "[30]\tvalid_0's rmse: 1755.28\tvalid_0's l2: 3.08102e+06\n",
      "[31]\tvalid_0's rmse: 1746.17\tvalid_0's l2: 3.04911e+06\n",
      "[32]\tvalid_0's rmse: 1738.96\tvalid_0's l2: 3.02398e+06\n",
      "[33]\tvalid_0's rmse: 1732.27\tvalid_0's l2: 3.00074e+06\n",
      "[34]\tvalid_0's rmse: 1724.94\tvalid_0's l2: 2.97543e+06\n",
      "[35]\tvalid_0's rmse: 1718.97\tvalid_0's l2: 2.95486e+06\n",
      "[36]\tvalid_0's rmse: 1714.37\tvalid_0's l2: 2.93906e+06\n",
      "[37]\tvalid_0's rmse: 1709.35\tvalid_0's l2: 2.92189e+06\n",
      "[38]\tvalid_0's rmse: 1705.13\tvalid_0's l2: 2.90748e+06\n",
      "[39]\tvalid_0's rmse: 1701.07\tvalid_0's l2: 2.89365e+06\n",
      "[40]\tvalid_0's rmse: 1697.46\tvalid_0's l2: 2.88136e+06\n",
      "[41]\tvalid_0's rmse: 1694.09\tvalid_0's l2: 2.86994e+06\n",
      "[42]\tvalid_0's rmse: 1691.29\tvalid_0's l2: 2.86046e+06\n",
      "[43]\tvalid_0's rmse: 1688.31\tvalid_0's l2: 2.8504e+06\n",
      "[44]\tvalid_0's rmse: 1685.16\tvalid_0's l2: 2.83977e+06\n",
      "[45]\tvalid_0's rmse: 1682.9\tvalid_0's l2: 2.83216e+06\n",
      "[46]\tvalid_0's rmse: 1679.73\tvalid_0's l2: 2.82149e+06\n",
      "[47]\tvalid_0's rmse: 1677.33\tvalid_0's l2: 2.81344e+06\n",
      "[48]\tvalid_0's rmse: 1674.84\tvalid_0's l2: 2.8051e+06\n",
      "[49]\tvalid_0's rmse: 1673.03\tvalid_0's l2: 2.79904e+06\n",
      "[50]\tvalid_0's rmse: 1670.79\tvalid_0's l2: 2.79153e+06\n",
      "[51]\tvalid_0's rmse: 1669.05\tvalid_0's l2: 2.78573e+06\n",
      "[52]\tvalid_0's rmse: 1666.11\tvalid_0's l2: 2.77592e+06\n",
      "[53]\tvalid_0's rmse: 1664.18\tvalid_0's l2: 2.7695e+06\n",
      "[54]\tvalid_0's rmse: 1662.79\tvalid_0's l2: 2.76488e+06\n",
      "[55]\tvalid_0's rmse: 1660.93\tvalid_0's l2: 2.7587e+06\n",
      "[56]\tvalid_0's rmse: 1659.13\tvalid_0's l2: 2.75273e+06\n",
      "[57]\tvalid_0's rmse: 1657.45\tvalid_0's l2: 2.74715e+06\n",
      "[58]\tvalid_0's rmse: 1656.08\tvalid_0's l2: 2.74261e+06\n",
      "[59]\tvalid_0's rmse: 1654.72\tvalid_0's l2: 2.7381e+06\n",
      "[60]\tvalid_0's rmse: 1653.7\tvalid_0's l2: 2.73472e+06\n",
      "[61]\tvalid_0's rmse: 1652.5\tvalid_0's l2: 2.73075e+06\n",
      "[62]\tvalid_0's rmse: 1650.92\tvalid_0's l2: 2.72553e+06\n",
      "[63]\tvalid_0's rmse: 1650.02\tvalid_0's l2: 2.72255e+06\n",
      "[64]\tvalid_0's rmse: 1649.17\tvalid_0's l2: 2.71976e+06\n",
      "[65]\tvalid_0's rmse: 1648.03\tvalid_0's l2: 2.71601e+06\n",
      "[66]\tvalid_0's rmse: 1647.36\tvalid_0's l2: 2.71379e+06\n",
      "[67]\tvalid_0's rmse: 1646.04\tvalid_0's l2: 2.70946e+06\n",
      "[68]\tvalid_0's rmse: 1644.86\tvalid_0's l2: 2.70556e+06\n",
      "[69]\tvalid_0's rmse: 1643.24\tvalid_0's l2: 2.70024e+06\n",
      "[70]\tvalid_0's rmse: 1642.37\tvalid_0's l2: 2.69738e+06\n",
      "[71]\tvalid_0's rmse: 1641.45\tvalid_0's l2: 2.69437e+06\n",
      "[72]\tvalid_0's rmse: 1639.9\tvalid_0's l2: 2.68927e+06\n",
      "[73]\tvalid_0's rmse: 1638.53\tvalid_0's l2: 2.68477e+06\n",
      "[74]\tvalid_0's rmse: 1637.65\tvalid_0's l2: 2.68191e+06\n",
      "[75]\tvalid_0's rmse: 1636.95\tvalid_0's l2: 2.6796e+06\n",
      "[76]\tvalid_0's rmse: 1636.08\tvalid_0's l2: 2.67675e+06\n",
      "[77]\tvalid_0's rmse: 1634.83\tvalid_0's l2: 2.67268e+06\n",
      "[78]\tvalid_0's rmse: 1634.15\tvalid_0's l2: 2.67044e+06\n",
      "[79]\tvalid_0's rmse: 1633.45\tvalid_0's l2: 2.66816e+06\n",
      "[80]\tvalid_0's rmse: 1632.83\tvalid_0's l2: 2.66612e+06\n",
      "[81]\tvalid_0's rmse: 1631.87\tvalid_0's l2: 2.663e+06\n",
      "[82]\tvalid_0's rmse: 1631.19\tvalid_0's l2: 2.66077e+06\n",
      "[83]\tvalid_0's rmse: 1630.33\tvalid_0's l2: 2.65798e+06\n",
      "[84]\tvalid_0's rmse: 1630.13\tvalid_0's l2: 2.65732e+06\n",
      "[85]\tvalid_0's rmse: 1629.55\tvalid_0's l2: 2.65543e+06\n",
      "[86]\tvalid_0's rmse: 1629.41\tvalid_0's l2: 2.65499e+06\n",
      "[87]\tvalid_0's rmse: 1628.46\tvalid_0's l2: 2.65188e+06\n",
      "[88]\tvalid_0's rmse: 1627.67\tvalid_0's l2: 2.6493e+06\n",
      "[89]\tvalid_0's rmse: 1627.24\tvalid_0's l2: 2.6479e+06\n",
      "[90]\tvalid_0's rmse: 1626.59\tvalid_0's l2: 2.6458e+06\n",
      "[91]\tvalid_0's rmse: 1626.32\tvalid_0's l2: 2.64491e+06\n",
      "[92]\tvalid_0's rmse: 1625.27\tvalid_0's l2: 2.6415e+06\n",
      "[93]\tvalid_0's rmse: 1624.9\tvalid_0's l2: 2.64029e+06\n",
      "[94]\tvalid_0's rmse: 1624.46\tvalid_0's l2: 2.63888e+06\n",
      "[95]\tvalid_0's rmse: 1624.04\tvalid_0's l2: 2.63749e+06\n",
      "[96]\tvalid_0's rmse: 1623.63\tvalid_0's l2: 2.63618e+06\n",
      "[97]\tvalid_0's rmse: 1623.29\tvalid_0's l2: 2.63508e+06\n",
      "[98]\tvalid_0's rmse: 1623.14\tvalid_0's l2: 2.63459e+06\n",
      "[99]\tvalid_0's rmse: 1621.92\tvalid_0's l2: 2.63063e+06\n",
      "[100]\tvalid_0's rmse: 1621.59\tvalid_0's l2: 2.62957e+06\n",
      "5.51 s ± 0 ns per loop (mean ± std. dev. of 1 run, 1 loop each)\n",
      "779 ms ± 0 ns per loop (mean ± std. dev. of 1 run, 1 loop each)\n"
     ]
    }
   ],
   "source": [
    "tiempo_modelo_lightgbm = %timeit -n1 -r1 -o lgbm.fit(features_train, targets_train, eval_metric = 'RMSE', categorical_feature=['VehicleType', 'FuelType', 'NotRepaired', 'Gearbox' , 'Model', 'Brand'], eval_set=(features_valid, targets_valid))\n",
    "tiempo_predicción_lightgbm = %timeit -n1 -r1 -o lgbm.predict(features_valid)\n",
    "error_lightgbm = mean_squared_error(targets_valid, lgbm_pred, squared=False)\n",
    "\n"
   ]
  },
  {
   "cell_type": "code",
   "execution_count": 92,
   "metadata": {},
   "outputs": [],
   "source": [
    "resultados_modelos.append({\n",
    "    'modelo' : 'Regresion LGBMRegressor',\n",
    "    'tiempo de entrenamiento' : tiempo_modelo_lightgbm,\n",
    "    'tiempo de predicción' : tiempo_predicción_lightgbm,\n",
    "    'error de test' : error_lightgbm\n",
    "})"
   ]
  },
  {
   "cell_type": "markdown",
   "metadata": {},
   "source": [
    "## Análisis del modelo"
   ]
  },
  {
   "cell_type": "markdown",
   "metadata": {},
   "source": [
    "Ya aplicado todos los modelos, pudimos observar una mejora en los valores de los errores. Concluyendo que los resultados más bajos, los arrojan los modelos `CatBoost`y `LightGBM`. Habiendo una pequeña diferencia entre ellos.\n",
    "\n",
    "Una diferencia a tomar en cuenta también, es el tiempo que toma cada uno de los modelos, en la ejecución de su entrenamiento y predicción. Entre estos dos últimos modelos, el `LightGBM`se demora considerablemente menos que el `CatBoost`.\n",
    "\n"
   ]
  },
  {
   "cell_type": "markdown",
   "metadata": {},
   "source": [
    "Antes que terminemos, entrenaremos el modelo `LightGBM`con nuestro DF restantes y haremos el último testeo. Debiésemos obtener resultados similares a los obtenidos anteriormente."
   ]
  },
  {
   "cell_type": "code",
   "execution_count": 94,
   "metadata": {},
   "outputs": [
    {
     "name": "stdout",
     "output_type": "stream",
     "text": [
      "Tiempo de entrenamiento:\n"
     ]
    },
    {
     "name": "stderr",
     "output_type": "stream",
     "text": [
      "/opt/conda/lib/python3.9/site-packages/lightgbm/basic.py:2065: UserWarning: Using categorical_feature in Dataset.\n",
      "  _log_warning('Using categorical_feature in Dataset.')\n",
      "/opt/conda/lib/python3.9/site-packages/lightgbm/basic.py:2068: UserWarning: categorical_feature in Dataset is overridden.\n",
      "New categorical_feature is ['Brand', 'FuelType', 'Gearbox', 'Model', 'NotRepaired', 'VehicleType']\n",
      "  _log_warning('categorical_feature in Dataset is overridden.\\n'\n",
      "/opt/conda/lib/python3.9/site-packages/lightgbm/basic.py:1780: UserWarning: Overriding the parameters from Reference Dataset.\n",
      "  _log_warning('Overriding the parameters from Reference Dataset.')\n",
      "/opt/conda/lib/python3.9/site-packages/lightgbm/basic.py:1513: UserWarning: categorical_column in param dict is overridden.\n",
      "  _log_warning(f'{cat_alias} in param dict is overridden.')\n"
     ]
    },
    {
     "name": "stdout",
     "output_type": "stream",
     "text": [
      "[1]\tvalid_0's rmse: 4172.57\tvalid_0's l2: 1.74103e+07\n",
      "[2]\tvalid_0's rmse: 3879.05\tvalid_0's l2: 1.50471e+07\n",
      "[3]\tvalid_0's rmse: 3622.42\tvalid_0's l2: 1.31219e+07\n",
      "[4]\tvalid_0's rmse: 3392.08\tvalid_0's l2: 1.15062e+07\n",
      "[5]\tvalid_0's rmse: 3189.98\tvalid_0's l2: 1.0176e+07\n",
      "[6]\tvalid_0's rmse: 3011.64\tvalid_0's l2: 9.06995e+06\n",
      "[7]\tvalid_0's rmse: 2855.61\tvalid_0's l2: 8.15449e+06\n",
      "[8]\tvalid_0's rmse: 2719.13\tvalid_0's l2: 7.39369e+06\n",
      "[9]\tvalid_0's rmse: 2594.84\tvalid_0's l2: 6.7332e+06\n",
      "[10]\tvalid_0's rmse: 2485.1\tvalid_0's l2: 6.1757e+06\n",
      "[11]\tvalid_0's rmse: 2388.67\tvalid_0's l2: 5.70575e+06\n",
      "[12]\tvalid_0's rmse: 2303.92\tvalid_0's l2: 5.30805e+06\n",
      "[13]\tvalid_0's rmse: 2230\tvalid_0's l2: 4.97288e+06\n",
      "[14]\tvalid_0's rmse: 2165.38\tvalid_0's l2: 4.68888e+06\n",
      "[15]\tvalid_0's rmse: 2109.41\tvalid_0's l2: 4.44961e+06\n",
      "[16]\tvalid_0's rmse: 2058.95\tvalid_0's l2: 4.23927e+06\n",
      "[17]\tvalid_0's rmse: 2015.58\tvalid_0's l2: 4.06255e+06\n",
      "[18]\tvalid_0's rmse: 1976.26\tvalid_0's l2: 3.90559e+06\n",
      "[19]\tvalid_0's rmse: 1940.91\tvalid_0's l2: 3.76715e+06\n",
      "[20]\tvalid_0's rmse: 1911.37\tvalid_0's l2: 3.65333e+06\n",
      "[21]\tvalid_0's rmse: 1884.43\tvalid_0's l2: 3.55109e+06\n",
      "[22]\tvalid_0's rmse: 1861.49\tvalid_0's l2: 3.46514e+06\n",
      "[23]\tvalid_0's rmse: 1840.22\tvalid_0's l2: 3.38643e+06\n",
      "[24]\tvalid_0's rmse: 1821.48\tvalid_0's l2: 3.31778e+06\n",
      "[25]\tvalid_0's rmse: 1803.51\tvalid_0's l2: 3.25264e+06\n",
      "[26]\tvalid_0's rmse: 1788.45\tvalid_0's l2: 3.19857e+06\n",
      "[27]\tvalid_0's rmse: 1775.29\tvalid_0's l2: 3.15167e+06\n",
      "[28]\tvalid_0's rmse: 1763.1\tvalid_0's l2: 3.10853e+06\n",
      "[29]\tvalid_0's rmse: 1752.41\tvalid_0's l2: 3.07095e+06\n",
      "[30]\tvalid_0's rmse: 1742.88\tvalid_0's l2: 3.03765e+06\n",
      "[31]\tvalid_0's rmse: 1733.63\tvalid_0's l2: 3.00547e+06\n",
      "[32]\tvalid_0's rmse: 1724.44\tvalid_0's l2: 2.9737e+06\n",
      "[33]\tvalid_0's rmse: 1716.9\tvalid_0's l2: 2.94776e+06\n",
      "[34]\tvalid_0's rmse: 1709.2\tvalid_0's l2: 2.92135e+06\n",
      "[35]\tvalid_0's rmse: 1702.16\tvalid_0's l2: 2.89735e+06\n",
      "[36]\tvalid_0's rmse: 1696.33\tvalid_0's l2: 2.87754e+06\n",
      "[37]\tvalid_0's rmse: 1690.71\tvalid_0's l2: 2.85851e+06\n",
      "[38]\tvalid_0's rmse: 1685.11\tvalid_0's l2: 2.83959e+06\n",
      "[39]\tvalid_0's rmse: 1679.83\tvalid_0's l2: 2.82182e+06\n",
      "[40]\tvalid_0's rmse: 1674.7\tvalid_0's l2: 2.80462e+06\n",
      "[41]\tvalid_0's rmse: 1670.57\tvalid_0's l2: 2.79081e+06\n",
      "[42]\tvalid_0's rmse: 1667.19\tvalid_0's l2: 2.77951e+06\n",
      "[43]\tvalid_0's rmse: 1663.35\tvalid_0's l2: 2.76674e+06\n",
      "[44]\tvalid_0's rmse: 1660.18\tvalid_0's l2: 2.75619e+06\n",
      "[45]\tvalid_0's rmse: 1657.13\tvalid_0's l2: 2.74607e+06\n",
      "[46]\tvalid_0's rmse: 1654.02\tvalid_0's l2: 2.73577e+06\n",
      "[47]\tvalid_0's rmse: 1650.75\tvalid_0's l2: 2.72497e+06\n",
      "[48]\tvalid_0's rmse: 1648.34\tvalid_0's l2: 2.71702e+06\n",
      "[49]\tvalid_0's rmse: 1645.34\tvalid_0's l2: 2.70714e+06\n",
      "[50]\tvalid_0's rmse: 1643.08\tvalid_0's l2: 2.69973e+06\n",
      "[51]\tvalid_0's rmse: 1641.27\tvalid_0's l2: 2.69375e+06\n",
      "[52]\tvalid_0's rmse: 1638.64\tvalid_0's l2: 2.68515e+06\n",
      "[53]\tvalid_0's rmse: 1635.29\tvalid_0's l2: 2.67419e+06\n",
      "[54]\tvalid_0's rmse: 1633.24\tvalid_0's l2: 2.66749e+06\n",
      "[55]\tvalid_0's rmse: 1631.13\tvalid_0's l2: 2.66059e+06\n",
      "[56]\tvalid_0's rmse: 1628.86\tvalid_0's l2: 2.65318e+06\n",
      "[57]\tvalid_0's rmse: 1627.46\tvalid_0's l2: 2.64862e+06\n",
      "[58]\tvalid_0's rmse: 1625.4\tvalid_0's l2: 2.64192e+06\n",
      "[59]\tvalid_0's rmse: 1623.49\tvalid_0's l2: 2.63573e+06\n",
      "[60]\tvalid_0's rmse: 1622.27\tvalid_0's l2: 2.63177e+06\n",
      "[61]\tvalid_0's rmse: 1620.28\tvalid_0's l2: 2.6253e+06\n",
      "[62]\tvalid_0's rmse: 1618.42\tvalid_0's l2: 2.61929e+06\n",
      "[63]\tvalid_0's rmse: 1617.49\tvalid_0's l2: 2.61628e+06\n",
      "[64]\tvalid_0's rmse: 1615.31\tvalid_0's l2: 2.60923e+06\n",
      "[65]\tvalid_0's rmse: 1613.9\tvalid_0's l2: 2.60469e+06\n",
      "[66]\tvalid_0's rmse: 1612.44\tvalid_0's l2: 2.59995e+06\n",
      "[67]\tvalid_0's rmse: 1611.36\tvalid_0's l2: 2.59648e+06\n",
      "[68]\tvalid_0's rmse: 1609.72\tvalid_0's l2: 2.59121e+06\n",
      "[69]\tvalid_0's rmse: 1608.5\tvalid_0's l2: 2.58728e+06\n",
      "[70]\tvalid_0's rmse: 1607.26\tvalid_0's l2: 2.58327e+06\n",
      "[71]\tvalid_0's rmse: 1605.88\tvalid_0's l2: 2.57884e+06\n",
      "[72]\tvalid_0's rmse: 1604.94\tvalid_0's l2: 2.57582e+06\n",
      "[73]\tvalid_0's rmse: 1602.43\tvalid_0's l2: 2.56777e+06\n",
      "[74]\tvalid_0's rmse: 1601.56\tvalid_0's l2: 2.56499e+06\n",
      "[75]\tvalid_0's rmse: 1599.71\tvalid_0's l2: 2.55907e+06\n",
      "[76]\tvalid_0's rmse: 1598.15\tvalid_0's l2: 2.5541e+06\n",
      "[77]\tvalid_0's rmse: 1596.7\tvalid_0's l2: 2.54944e+06\n",
      "[78]\tvalid_0's rmse: 1595.6\tvalid_0's l2: 2.54594e+06\n",
      "[79]\tvalid_0's rmse: 1594.42\tvalid_0's l2: 2.54216e+06\n",
      "[80]\tvalid_0's rmse: 1593.66\tvalid_0's l2: 2.53974e+06\n",
      "[81]\tvalid_0's rmse: 1592.93\tvalid_0's l2: 2.53743e+06\n",
      "[82]\tvalid_0's rmse: 1591.67\tvalid_0's l2: 2.53342e+06\n",
      "[83]\tvalid_0's rmse: 1590.88\tvalid_0's l2: 2.53091e+06\n",
      "[84]\tvalid_0's rmse: 1589.77\tvalid_0's l2: 2.52738e+06\n",
      "[85]\tvalid_0's rmse: 1588.61\tvalid_0's l2: 2.52369e+06\n",
      "[86]\tvalid_0's rmse: 1586.97\tvalid_0's l2: 2.51847e+06\n",
      "[87]\tvalid_0's rmse: 1586.09\tvalid_0's l2: 2.5157e+06\n",
      "[88]\tvalid_0's rmse: 1585.43\tvalid_0's l2: 2.51359e+06\n",
      "[89]\tvalid_0's rmse: 1584.42\tvalid_0's l2: 2.51039e+06\n",
      "[90]\tvalid_0's rmse: 1583.48\tvalid_0's l2: 2.50741e+06\n",
      "[91]\tvalid_0's rmse: 1582.42\tvalid_0's l2: 2.50407e+06\n",
      "[92]\tvalid_0's rmse: 1581.58\tvalid_0's l2: 2.50139e+06\n",
      "[93]\tvalid_0's rmse: 1580.39\tvalid_0's l2: 2.49762e+06\n",
      "[94]\tvalid_0's rmse: 1579.31\tvalid_0's l2: 2.49423e+06\n",
      "[95]\tvalid_0's rmse: 1578.69\tvalid_0's l2: 2.49226e+06\n",
      "[96]\tvalid_0's rmse: 1577.8\tvalid_0's l2: 2.48944e+06\n",
      "[97]\tvalid_0's rmse: 1576.41\tvalid_0's l2: 2.48506e+06\n",
      "[98]\tvalid_0's rmse: 1575.85\tvalid_0's l2: 2.48331e+06\n",
      "[99]\tvalid_0's rmse: 1575.3\tvalid_0's l2: 2.48157e+06\n",
      "[100]\tvalid_0's rmse: 1574.2\tvalid_0's l2: 2.47809e+06\n",
      "CPU times: user 6.74 s, sys: 68.2 ms, total: 6.81 s\n",
      "Wall time: 6.87 s\n",
      "\n",
      "Tiempo de predicción:\n",
      "CPU times: user 713 ms, sys: 4 ms, total: 717 ms\n",
      "Wall time: 707 ms\n",
      "1574.195701318189\n"
     ]
    }
   ],
   "source": [
    "lgbm = lgb.LGBMRegressor(random_state=rs)\n",
    "print('Tiempo de entrenamiento:')\n",
    "%time lgbm.fit(features_rest, targets_rest, eval_metric = 'RMSE', categorical_feature=['VehicleType', 'FuelType', 'NotRepaired', 'Gearbox' , 'Model', 'Brand'], eval_set=(features_test, targets_test))\n",
    "print()\n",
    "print('Tiempo de predicción:')\n",
    "%time lgbm_pred = lgbm.predict(features_test)\n",
    "print(mean_squared_error(targets_test, lgbm_pred, squared=False))"
   ]
  },
  {
   "cell_type": "code",
   "execution_count": 98,
   "metadata": {
    "scrolled": true
   },
   "outputs": [
    {
     "name": "stderr",
     "output_type": "stream",
     "text": [
      "/opt/conda/lib/python3.9/site-packages/lightgbm/basic.py:2065: UserWarning: Using categorical_feature in Dataset.\n",
      "  _log_warning('Using categorical_feature in Dataset.')\n",
      "/opt/conda/lib/python3.9/site-packages/lightgbm/basic.py:2068: UserWarning: categorical_feature in Dataset is overridden.\n",
      "New categorical_feature is ['Brand', 'FuelType', 'Gearbox', 'Model', 'NotRepaired', 'VehicleType']\n",
      "  _log_warning('categorical_feature in Dataset is overridden.\\n'\n",
      "/opt/conda/lib/python3.9/site-packages/lightgbm/basic.py:1780: UserWarning: Overriding the parameters from Reference Dataset.\n",
      "  _log_warning('Overriding the parameters from Reference Dataset.')\n",
      "/opt/conda/lib/python3.9/site-packages/lightgbm/basic.py:1513: UserWarning: categorical_column in param dict is overridden.\n",
      "  _log_warning(f'{cat_alias} in param dict is overridden.')\n"
     ]
    },
    {
     "name": "stdout",
     "output_type": "stream",
     "text": [
      "[1]\tvalid_0's rmse: 4172.57\tvalid_0's l2: 1.74103e+07\n",
      "[2]\tvalid_0's rmse: 3879.05\tvalid_0's l2: 1.50471e+07\n",
      "[3]\tvalid_0's rmse: 3622.42\tvalid_0's l2: 1.31219e+07\n",
      "[4]\tvalid_0's rmse: 3392.08\tvalid_0's l2: 1.15062e+07\n",
      "[5]\tvalid_0's rmse: 3189.98\tvalid_0's l2: 1.0176e+07\n",
      "[6]\tvalid_0's rmse: 3011.64\tvalid_0's l2: 9.06995e+06\n",
      "[7]\tvalid_0's rmse: 2855.61\tvalid_0's l2: 8.15449e+06\n",
      "[8]\tvalid_0's rmse: 2719.13\tvalid_0's l2: 7.39369e+06\n",
      "[9]\tvalid_0's rmse: 2594.84\tvalid_0's l2: 6.7332e+06\n",
      "[10]\tvalid_0's rmse: 2485.1\tvalid_0's l2: 6.1757e+06\n",
      "[11]\tvalid_0's rmse: 2388.67\tvalid_0's l2: 5.70575e+06\n",
      "[12]\tvalid_0's rmse: 2303.92\tvalid_0's l2: 5.30805e+06\n",
      "[13]\tvalid_0's rmse: 2230\tvalid_0's l2: 4.97288e+06\n",
      "[14]\tvalid_0's rmse: 2165.38\tvalid_0's l2: 4.68888e+06\n",
      "[15]\tvalid_0's rmse: 2109.41\tvalid_0's l2: 4.44961e+06\n",
      "[16]\tvalid_0's rmse: 2058.95\tvalid_0's l2: 4.23927e+06\n",
      "[17]\tvalid_0's rmse: 2015.58\tvalid_0's l2: 4.06255e+06\n",
      "[18]\tvalid_0's rmse: 1976.26\tvalid_0's l2: 3.90559e+06\n",
      "[19]\tvalid_0's rmse: 1940.91\tvalid_0's l2: 3.76715e+06\n",
      "[20]\tvalid_0's rmse: 1911.37\tvalid_0's l2: 3.65333e+06\n",
      "[21]\tvalid_0's rmse: 1884.43\tvalid_0's l2: 3.55109e+06\n",
      "[22]\tvalid_0's rmse: 1861.49\tvalid_0's l2: 3.46514e+06\n",
      "[23]\tvalid_0's rmse: 1840.22\tvalid_0's l2: 3.38643e+06\n",
      "[24]\tvalid_0's rmse: 1821.48\tvalid_0's l2: 3.31778e+06\n",
      "[25]\tvalid_0's rmse: 1803.51\tvalid_0's l2: 3.25264e+06\n",
      "[26]\tvalid_0's rmse: 1788.45\tvalid_0's l2: 3.19857e+06\n",
      "[27]\tvalid_0's rmse: 1775.29\tvalid_0's l2: 3.15167e+06\n",
      "[28]\tvalid_0's rmse: 1763.1\tvalid_0's l2: 3.10853e+06\n",
      "[29]\tvalid_0's rmse: 1752.41\tvalid_0's l2: 3.07095e+06\n",
      "[30]\tvalid_0's rmse: 1742.88\tvalid_0's l2: 3.03765e+06\n",
      "[31]\tvalid_0's rmse: 1733.63\tvalid_0's l2: 3.00547e+06\n",
      "[32]\tvalid_0's rmse: 1724.44\tvalid_0's l2: 2.9737e+06\n",
      "[33]\tvalid_0's rmse: 1716.9\tvalid_0's l2: 2.94776e+06\n",
      "[34]\tvalid_0's rmse: 1709.2\tvalid_0's l2: 2.92135e+06\n",
      "[35]\tvalid_0's rmse: 1702.16\tvalid_0's l2: 2.89735e+06\n",
      "[36]\tvalid_0's rmse: 1696.33\tvalid_0's l2: 2.87754e+06\n",
      "[37]\tvalid_0's rmse: 1690.71\tvalid_0's l2: 2.85851e+06\n",
      "[38]\tvalid_0's rmse: 1685.11\tvalid_0's l2: 2.83959e+06\n",
      "[39]\tvalid_0's rmse: 1679.83\tvalid_0's l2: 2.82182e+06\n",
      "[40]\tvalid_0's rmse: 1674.7\tvalid_0's l2: 2.80462e+06\n",
      "[41]\tvalid_0's rmse: 1670.57\tvalid_0's l2: 2.79081e+06\n",
      "[42]\tvalid_0's rmse: 1667.19\tvalid_0's l2: 2.77951e+06\n",
      "[43]\tvalid_0's rmse: 1663.35\tvalid_0's l2: 2.76674e+06\n",
      "[44]\tvalid_0's rmse: 1660.18\tvalid_0's l2: 2.75619e+06\n",
      "[45]\tvalid_0's rmse: 1657.13\tvalid_0's l2: 2.74607e+06\n",
      "[46]\tvalid_0's rmse: 1654.02\tvalid_0's l2: 2.73577e+06\n",
      "[47]\tvalid_0's rmse: 1650.75\tvalid_0's l2: 2.72497e+06\n",
      "[48]\tvalid_0's rmse: 1648.34\tvalid_0's l2: 2.71702e+06\n",
      "[49]\tvalid_0's rmse: 1645.34\tvalid_0's l2: 2.70714e+06\n",
      "[50]\tvalid_0's rmse: 1643.08\tvalid_0's l2: 2.69973e+06\n",
      "[51]\tvalid_0's rmse: 1641.27\tvalid_0's l2: 2.69375e+06\n",
      "[52]\tvalid_0's rmse: 1638.64\tvalid_0's l2: 2.68515e+06\n",
      "[53]\tvalid_0's rmse: 1635.29\tvalid_0's l2: 2.67419e+06\n",
      "[54]\tvalid_0's rmse: 1633.24\tvalid_0's l2: 2.66749e+06\n",
      "[55]\tvalid_0's rmse: 1631.13\tvalid_0's l2: 2.66059e+06\n",
      "[56]\tvalid_0's rmse: 1628.86\tvalid_0's l2: 2.65318e+06\n",
      "[57]\tvalid_0's rmse: 1627.46\tvalid_0's l2: 2.64862e+06\n",
      "[58]\tvalid_0's rmse: 1625.4\tvalid_0's l2: 2.64192e+06\n",
      "[59]\tvalid_0's rmse: 1623.49\tvalid_0's l2: 2.63573e+06\n",
      "[60]\tvalid_0's rmse: 1622.27\tvalid_0's l2: 2.63177e+06\n",
      "[61]\tvalid_0's rmse: 1620.28\tvalid_0's l2: 2.6253e+06\n",
      "[62]\tvalid_0's rmse: 1618.42\tvalid_0's l2: 2.61929e+06\n",
      "[63]\tvalid_0's rmse: 1617.49\tvalid_0's l2: 2.61628e+06\n",
      "[64]\tvalid_0's rmse: 1615.31\tvalid_0's l2: 2.60923e+06\n",
      "[65]\tvalid_0's rmse: 1613.9\tvalid_0's l2: 2.60469e+06\n",
      "[66]\tvalid_0's rmse: 1612.44\tvalid_0's l2: 2.59995e+06\n",
      "[67]\tvalid_0's rmse: 1611.36\tvalid_0's l2: 2.59648e+06\n",
      "[68]\tvalid_0's rmse: 1609.72\tvalid_0's l2: 2.59121e+06\n",
      "[69]\tvalid_0's rmse: 1608.5\tvalid_0's l2: 2.58728e+06\n",
      "[70]\tvalid_0's rmse: 1607.26\tvalid_0's l2: 2.58327e+06\n",
      "[71]\tvalid_0's rmse: 1605.88\tvalid_0's l2: 2.57884e+06\n",
      "[72]\tvalid_0's rmse: 1604.94\tvalid_0's l2: 2.57582e+06\n",
      "[73]\tvalid_0's rmse: 1602.43\tvalid_0's l2: 2.56777e+06\n",
      "[74]\tvalid_0's rmse: 1601.56\tvalid_0's l2: 2.56499e+06\n",
      "[75]\tvalid_0's rmse: 1599.71\tvalid_0's l2: 2.55907e+06\n",
      "[76]\tvalid_0's rmse: 1598.15\tvalid_0's l2: 2.5541e+06\n",
      "[77]\tvalid_0's rmse: 1596.7\tvalid_0's l2: 2.54944e+06\n",
      "[78]\tvalid_0's rmse: 1595.6\tvalid_0's l2: 2.54594e+06\n",
      "[79]\tvalid_0's rmse: 1594.42\tvalid_0's l2: 2.54216e+06\n",
      "[80]\tvalid_0's rmse: 1593.66\tvalid_0's l2: 2.53974e+06\n",
      "[81]\tvalid_0's rmse: 1592.93\tvalid_0's l2: 2.53743e+06\n",
      "[82]\tvalid_0's rmse: 1591.67\tvalid_0's l2: 2.53342e+06\n",
      "[83]\tvalid_0's rmse: 1590.88\tvalid_0's l2: 2.53091e+06\n",
      "[84]\tvalid_0's rmse: 1589.77\tvalid_0's l2: 2.52738e+06\n",
      "[85]\tvalid_0's rmse: 1588.61\tvalid_0's l2: 2.52369e+06\n",
      "[86]\tvalid_0's rmse: 1586.97\tvalid_0's l2: 2.51847e+06\n",
      "[87]\tvalid_0's rmse: 1586.09\tvalid_0's l2: 2.5157e+06\n",
      "[88]\tvalid_0's rmse: 1585.43\tvalid_0's l2: 2.51359e+06\n",
      "[89]\tvalid_0's rmse: 1584.42\tvalid_0's l2: 2.51039e+06\n",
      "[90]\tvalid_0's rmse: 1583.48\tvalid_0's l2: 2.50741e+06\n",
      "[91]\tvalid_0's rmse: 1582.42\tvalid_0's l2: 2.50407e+06\n",
      "[92]\tvalid_0's rmse: 1581.58\tvalid_0's l2: 2.50139e+06\n",
      "[93]\tvalid_0's rmse: 1580.39\tvalid_0's l2: 2.49762e+06\n",
      "[94]\tvalid_0's rmse: 1579.31\tvalid_0's l2: 2.49423e+06\n",
      "[95]\tvalid_0's rmse: 1578.69\tvalid_0's l2: 2.49226e+06\n",
      "[96]\tvalid_0's rmse: 1577.8\tvalid_0's l2: 2.48944e+06\n",
      "[97]\tvalid_0's rmse: 1576.41\tvalid_0's l2: 2.48506e+06\n",
      "[98]\tvalid_0's rmse: 1575.85\tvalid_0's l2: 2.48331e+06\n",
      "[99]\tvalid_0's rmse: 1575.3\tvalid_0's l2: 2.48157e+06\n",
      "[100]\tvalid_0's rmse: 1574.2\tvalid_0's l2: 2.47809e+06\n",
      "6.66 s ± 0 ns per loop (mean ± std. dev. of 1 run, 1 loop each)\n",
      "803 ms ± 0 ns per loop (mean ± std. dev. of 1 run, 1 loop each)\n"
     ]
    }
   ],
   "source": [
    "tiempo_modelo_lightgbm_test = %timeit -n1 -r1 -o lgbm.fit(features_rest, targets_rest, eval_metric = 'RMSE', categorical_feature=['VehicleType', 'FuelType', 'NotRepaired', 'Gearbox' , 'Model', 'Brand'], eval_set=(features_test, targets_test))\n",
    "tiempo_predicción_lightgbm_test = %timeit -n1 -r1 -o lgbm.predict(features_test)\n",
    "error_lightgbm_test = mean_squared_error(targets_test, lgbm_pred, squared=False)"
   ]
  },
  {
   "cell_type": "code",
   "execution_count": 101,
   "metadata": {},
   "outputs": [],
   "source": [
    "resultados_modelos.append({\n",
    "    'modelo' : 'Regresion LGBMRegressor en TEST',\n",
    "    'tiempo de entrenamiento' : tiempo_modelo_lightgbm_test,\n",
    "    'tiempo de predicción' : tiempo_predicción_lightgbm_test,\n",
    "    'error de test' : error_lightgbm_test\n",
    "})"
   ]
  },
  {
   "cell_type": "markdown",
   "metadata": {},
   "source": [
    "Al haber hecho este último modelos con el DF restante, podemos ver que el valor final del error es mejor que el anterior. "
   ]
  },
  {
   "cell_type": "markdown",
   "metadata": {},
   "source": [
    "Comparemos los tres modelo en una sola tabla:"
   ]
  },
  {
   "cell_type": "code",
   "execution_count": 102,
   "metadata": {},
   "outputs": [
    {
     "data": {
      "text/html": [
       "<div>\n",
       "<style scoped>\n",
       "    .dataframe tbody tr th:only-of-type {\n",
       "        vertical-align: middle;\n",
       "    }\n",
       "\n",
       "    .dataframe tbody tr th {\n",
       "        vertical-align: top;\n",
       "    }\n",
       "\n",
       "    .dataframe thead th {\n",
       "        text-align: right;\n",
       "    }\n",
       "</style>\n",
       "<table border=\"1\" class=\"dataframe\">\n",
       "  <thead>\n",
       "    <tr style=\"text-align: right;\">\n",
       "      <th></th>\n",
       "      <th>modelo</th>\n",
       "      <th>tiempo de entrenamiento</th>\n",
       "      <th>tiempo de predicción</th>\n",
       "      <th>error de test</th>\n",
       "    </tr>\n",
       "  </thead>\n",
       "  <tbody>\n",
       "    <tr>\n",
       "      <th>0</th>\n",
       "      <td>RandomForestRegressor</td>\n",
       "      <td>14 s ± 0 ns per loop (mean ± std. dev. of 1 ru...</td>\n",
       "      <td>195 ms ± 0 ns per loop (mean ± std. dev. of 1 ...</td>\n",
       "      <td>2842.757069</td>\n",
       "    </tr>\n",
       "    <tr>\n",
       "      <th>1</th>\n",
       "      <td>Regresion CATBoost</td>\n",
       "      <td>53.4 s ± 0 ns per loop (mean ± std. dev. of 1 ...</td>\n",
       "      <td>171 ms ± 0 ns per loop (mean ± std. dev. of 1 ...</td>\n",
       "      <td>1628.689361</td>\n",
       "    </tr>\n",
       "    <tr>\n",
       "      <th>2</th>\n",
       "      <td>Regresion LGBMRegressor</td>\n",
       "      <td>5.51 s ± 0 ns per loop (mean ± std. dev. of 1 ...</td>\n",
       "      <td>779 ms ± 0 ns per loop (mean ± std. dev. of 1 ...</td>\n",
       "      <td>1621.594145</td>\n",
       "    </tr>\n",
       "    <tr>\n",
       "      <th>3</th>\n",
       "      <td>Regresion LGBMRegressor</td>\n",
       "      <td>6.91 s ± 0 ns per loop (mean ± std. dev. of 1 ...</td>\n",
       "      <td>707 ms ± 0 ns per loop (mean ± std. dev. of 1 ...</td>\n",
       "      <td>1574.195701</td>\n",
       "    </tr>\n",
       "    <tr>\n",
       "      <th>4</th>\n",
       "      <td>Regresion LGBMRegressor</td>\n",
       "      <td>6.66 s ± 0 ns per loop (mean ± std. dev. of 1 ...</td>\n",
       "      <td>803 ms ± 0 ns per loop (mean ± std. dev. of 1 ...</td>\n",
       "      <td>1574.195701</td>\n",
       "    </tr>\n",
       "    <tr>\n",
       "      <th>5</th>\n",
       "      <td>Regresion LGBMRegressor en TEST</td>\n",
       "      <td>6.66 s ± 0 ns per loop (mean ± std. dev. of 1 ...</td>\n",
       "      <td>803 ms ± 0 ns per loop (mean ± std. dev. of 1 ...</td>\n",
       "      <td>1574.195701</td>\n",
       "    </tr>\n",
       "  </tbody>\n",
       "</table>\n",
       "</div>"
      ],
      "text/plain": [
       "                            modelo  \\\n",
       "0            RandomForestRegressor   \n",
       "1               Regresion CATBoost   \n",
       "2          Regresion LGBMRegressor   \n",
       "3          Regresion LGBMRegressor   \n",
       "4          Regresion LGBMRegressor   \n",
       "5  Regresion LGBMRegressor en TEST   \n",
       "\n",
       "                             tiempo de entrenamiento  \\\n",
       "0  14 s ± 0 ns per loop (mean ± std. dev. of 1 ru...   \n",
       "1  53.4 s ± 0 ns per loop (mean ± std. dev. of 1 ...   \n",
       "2  5.51 s ± 0 ns per loop (mean ± std. dev. of 1 ...   \n",
       "3  6.91 s ± 0 ns per loop (mean ± std. dev. of 1 ...   \n",
       "4  6.66 s ± 0 ns per loop (mean ± std. dev. of 1 ...   \n",
       "5  6.66 s ± 0 ns per loop (mean ± std. dev. of 1 ...   \n",
       "\n",
       "                                tiempo de predicción  error de test  \n",
       "0  195 ms ± 0 ns per loop (mean ± std. dev. of 1 ...    2842.757069  \n",
       "1  171 ms ± 0 ns per loop (mean ± std. dev. of 1 ...    1628.689361  \n",
       "2  779 ms ± 0 ns per loop (mean ± std. dev. of 1 ...    1621.594145  \n",
       "3  707 ms ± 0 ns per loop (mean ± std. dev. of 1 ...    1574.195701  \n",
       "4  803 ms ± 0 ns per loop (mean ± std. dev. of 1 ...    1574.195701  \n",
       "5  803 ms ± 0 ns per loop (mean ± std. dev. of 1 ...    1574.195701  "
      ]
     },
     "execution_count": 102,
     "metadata": {},
     "output_type": "execute_result"
    }
   ],
   "source": [
    "pd.DataFrame(resultados_modelos)"
   ]
  },
  {
   "cell_type": "markdown",
   "metadata": {},
   "source": [
    "# Conclusión"
   ]
  },
  {
   "cell_type": "markdown",
   "metadata": {},
   "source": [
    "Iniciamos el proyecto, verificando los datos recibidos. Analizamos varias columnas, teniendo que tomar ciertas decisiones para poder seguir trabajando. Posteriormente a eso, hicimos los arreglos, llenados y eliminaciones de las decisiones tomadas durante el análisis exploratorio. Posteriormente empezamos a entrenar nuestros modelos con una prueba de cordura con la regresión lineal. Ocupamos el bosque aleatorio, CatBoost y LightGBM, logrando observar cómo iba mejorando nuestro RECM con cada modelo. Llegando a la conclusión que estos últimos dos modelos obtuvieron un RECM bastante cerca. El `CatBoost`con un RECM de 1628.689, necesitando un tiempo de 53.4 segundos y el `LightGBM`con un RECM de 1621.594,  necesitando un tiempo de 5.51 segundos.\n",
    "\n",
    "Al final, aplicamos el modelo `LightGBM`a nuestros datos restantes y logramos obtener un RECM de 1574.195 con un tiempo de 6.66 segundos."
   ]
  },
  {
   "cell_type": "markdown",
   "metadata": {},
   "source": [
    "# Lista de control"
   ]
  },
  {
   "cell_type": "markdown",
   "metadata": {},
   "source": [
    "Escribe 'x' para verificar. Luego presiona Shift+Enter"
   ]
  },
  {
   "cell_type": "markdown",
   "metadata": {},
   "source": [
    "- [x]  Jupyter Notebook está abierto\n",
    "- [x]  El código no tiene errores\n",
    "- [x]  Las celdas con el código han sido colocadas en orden de ejecución\n",
    "- [x]  Los datos han sido descargados y preparados\n",
    "- [x]  Los modelos han sido entrenados\n",
    "- [x]  Se realizó el análisis de velocidad y calidad de los modelos"
   ]
  }
 ],
 "metadata": {
  "kernelspec": {
   "display_name": "Python 3 (ipykernel)",
   "language": "python",
   "name": "python3"
  },
  "language_info": {
   "codemirror_mode": {
    "name": "ipython",
    "version": 3
   },
   "file_extension": ".py",
   "mimetype": "text/x-python",
   "name": "python",
   "nbconvert_exporter": "python",
   "pygments_lexer": "ipython3",
   "version": "3.11.3"
  },
  "toc": {
   "base_numbering": 1,
   "nav_menu": {},
   "number_sections": true,
   "sideBar": true,
   "skip_h1_title": true,
   "title_cell": "Table of Contents",
   "title_sidebar": "Contents",
   "toc_cell": false,
   "toc_position": {},
   "toc_section_display": true,
   "toc_window_display": true
  }
 },
 "nbformat": 4,
 "nbformat_minor": 2
}
